{
 "cells": [
  {
   "cell_type": "markdown",
   "metadata": {},
   "source": [
    "## Model Building"
   ]
  },
  {
   "cell_type": "code",
   "execution_count": 2,
   "metadata": {
    "collapsed": true
   },
   "outputs": [],
   "source": [
    "# Ignore warnings\n",
    "import warnings\n",
    "warnings.filterwarnings('ignore')\n",
    "\n",
    "# Basic operations\n",
    "import numpy as np\n",
    "import pandas as pd\n",
    "\n",
    "# Visualization\n",
    "import matplotlib.pyplot as plt\n",
    "\n",
    "# Machine learning\n",
    "import lightgbm as lgb\n",
    "\n",
    "\n",
    "# Sklearn packages\n",
    "from sklearn.model_selection import train_test_split\n",
    "from sklearn.metrics import confusion_matrix\n",
    "\n",
    "from sklearn.ensemble import RandomForestClassifier\n",
    "from sklearn.metrics import confusion_matrix\n",
    "from sklearn.metrics import r2_score \n",
    "\n",
    "import lightgbm as lgb\n",
    "\n",
    "\n"
   ]
  },
  {
   "cell_type": "code",
   "execution_count": 3,
   "metadata": {
    "collapsed": true
   },
   "outputs": [],
   "source": [
    "train = pd.read_csv('/Volumes/Transcend/gwu_course/ml1/project/data_cleaned.csv')"
   ]
  },
  {
   "cell_type": "code",
   "execution_count": 38,
   "metadata": {
    "collapsed": false
   },
   "outputs": [
    {
     "data": {
      "text/html": [
       "<div>\n",
       "<style>\n",
       "    .dataframe thead tr:only-child th {\n",
       "        text-align: right;\n",
       "    }\n",
       "\n",
       "    .dataframe thead th {\n",
       "        text-align: left;\n",
       "    }\n",
       "\n",
       "    .dataframe tbody tr th {\n",
       "        vertical-align: top;\n",
       "    }\n",
       "</style>\n",
       "<table border=\"1\" class=\"dataframe\">\n",
       "  <thead>\n",
       "    <tr style=\"text-align: right;\">\n",
       "      <th></th>\n",
       "      <th>AGE</th>\n",
       "      <th>AMONTH</th>\n",
       "      <th>ASOURCE</th>\n",
       "      <th>ATYPE</th>\n",
       "      <th>AWEEKEND</th>\n",
       "      <th>DIED</th>\n",
       "      <th>DISCWT</th>\n",
       "      <th>DISPUNIFORM</th>\n",
       "      <th>DQTR</th>\n",
       "      <th>FEMALE</th>\n",
       "      <th>...</th>\n",
       "      <th>PRDAY10</th>\n",
       "      <th>PRDAY9</th>\n",
       "      <th>PRDAY8</th>\n",
       "      <th>PRDAY7</th>\n",
       "      <th>PRDAY6</th>\n",
       "      <th>PRDAY5</th>\n",
       "      <th>PRDAY4</th>\n",
       "      <th>PRDAY3</th>\n",
       "      <th>PRDAY2</th>\n",
       "      <th>PRDAY1</th>\n",
       "    </tr>\n",
       "  </thead>\n",
       "  <tbody>\n",
       "    <tr>\n",
       "      <th>0</th>\n",
       "      <td>48.0</td>\n",
       "      <td>11.0</td>\n",
       "      <td>2</td>\n",
       "      <td>2</td>\n",
       "      <td>0.0</td>\n",
       "      <td>0.0</td>\n",
       "      <td>4.671227</td>\n",
       "      <td>1.0</td>\n",
       "      <td>1</td>\n",
       "      <td>0.0</td>\n",
       "      <td>...</td>\n",
       "      <td>0.0</td>\n",
       "      <td>0.0</td>\n",
       "      <td>0.0</td>\n",
       "      <td>38.0</td>\n",
       "      <td>29.0</td>\n",
       "      <td>1.0</td>\n",
       "      <td>37.0</td>\n",
       "      <td>37.0</td>\n",
       "      <td>37.0</td>\n",
       "      <td>37.0</td>\n",
       "    </tr>\n",
       "    <tr>\n",
       "      <th>1</th>\n",
       "      <td>66.0</td>\n",
       "      <td>11.0</td>\n",
       "      <td>2</td>\n",
       "      <td>2</td>\n",
       "      <td>0.0</td>\n",
       "      <td>0.0</td>\n",
       "      <td>4.671227</td>\n",
       "      <td>6.0</td>\n",
       "      <td>1</td>\n",
       "      <td>0.0</td>\n",
       "      <td>...</td>\n",
       "      <td>0.0</td>\n",
       "      <td>0.0</td>\n",
       "      <td>7.0</td>\n",
       "      <td>7.0</td>\n",
       "      <td>3.0</td>\n",
       "      <td>3.0</td>\n",
       "      <td>2.0</td>\n",
       "      <td>0.0</td>\n",
       "      <td>4.0</td>\n",
       "      <td>4.0</td>\n",
       "    </tr>\n",
       "    <tr>\n",
       "      <th>2</th>\n",
       "      <td>53.0</td>\n",
       "      <td>11.0</td>\n",
       "      <td>2</td>\n",
       "      <td>2</td>\n",
       "      <td>0.0</td>\n",
       "      <td>0.0</td>\n",
       "      <td>4.671227</td>\n",
       "      <td>5.0</td>\n",
       "      <td>1</td>\n",
       "      <td>0.0</td>\n",
       "      <td>...</td>\n",
       "      <td>0.0</td>\n",
       "      <td>0.0</td>\n",
       "      <td>0.0</td>\n",
       "      <td>0.0</td>\n",
       "      <td>35.0</td>\n",
       "      <td>7.0</td>\n",
       "      <td>29.0</td>\n",
       "      <td>14.0</td>\n",
       "      <td>2.0</td>\n",
       "      <td>0.0</td>\n",
       "    </tr>\n",
       "    <tr>\n",
       "      <th>3</th>\n",
       "      <td>27.0</td>\n",
       "      <td>11.0</td>\n",
       "      <td>2</td>\n",
       "      <td>2</td>\n",
       "      <td>0.0</td>\n",
       "      <td>0.0</td>\n",
       "      <td>4.671227</td>\n",
       "      <td>1.0</td>\n",
       "      <td>1</td>\n",
       "      <td>1.0</td>\n",
       "      <td>...</td>\n",
       "      <td>0.0</td>\n",
       "      <td>0.0</td>\n",
       "      <td>0.0</td>\n",
       "      <td>0.0</td>\n",
       "      <td>0.0</td>\n",
       "      <td>0.0</td>\n",
       "      <td>39.0</td>\n",
       "      <td>19.0</td>\n",
       "      <td>6.0</td>\n",
       "      <td>18.0</td>\n",
       "    </tr>\n",
       "    <tr>\n",
       "      <th>4</th>\n",
       "      <td>48.0</td>\n",
       "      <td>11.0</td>\n",
       "      <td>2</td>\n",
       "      <td>2</td>\n",
       "      <td>0.0</td>\n",
       "      <td>1.0</td>\n",
       "      <td>4.671227</td>\n",
       "      <td>20.0</td>\n",
       "      <td>1</td>\n",
       "      <td>0.0</td>\n",
       "      <td>...</td>\n",
       "      <td>0.0</td>\n",
       "      <td>0.0</td>\n",
       "      <td>10.0</td>\n",
       "      <td>7.0</td>\n",
       "      <td>8.0</td>\n",
       "      <td>8.0</td>\n",
       "      <td>1.0</td>\n",
       "      <td>1.0</td>\n",
       "      <td>0.0</td>\n",
       "      <td>0.0</td>\n",
       "    </tr>\n",
       "  </tbody>\n",
       "</table>\n",
       "<p>5 rows × 111 columns</p>\n",
       "</div>"
      ],
      "text/plain": [
       "    AGE  AMONTH  ASOURCE  ATYPE  AWEEKEND  DIED    DISCWT  DISPUNIFORM  DQTR  \\\n",
       "0  48.0    11.0        2      2       0.0   0.0  4.671227          1.0     1   \n",
       "1  66.0    11.0        2      2       0.0   0.0  4.671227          6.0     1   \n",
       "2  53.0    11.0        2      2       0.0   0.0  4.671227          5.0     1   \n",
       "3  27.0    11.0        2      2       0.0   0.0  4.671227          1.0     1   \n",
       "4  48.0    11.0        2      2       0.0   1.0  4.671227         20.0     1   \n",
       "\n",
       "   FEMALE   ...    PRDAY10  PRDAY9  PRDAY8  PRDAY7  PRDAY6  PRDAY5  PRDAY4  \\\n",
       "0     0.0   ...        0.0     0.0     0.0    38.0    29.0     1.0    37.0   \n",
       "1     0.0   ...        0.0     0.0     7.0     7.0     3.0     3.0     2.0   \n",
       "2     0.0   ...        0.0     0.0     0.0     0.0    35.0     7.0    29.0   \n",
       "3     1.0   ...        0.0     0.0     0.0     0.0     0.0     0.0    39.0   \n",
       "4     0.0   ...        0.0     0.0    10.0     7.0     8.0     8.0     1.0   \n",
       "\n",
       "   PRDAY3  PRDAY2  PRDAY1  \n",
       "0    37.0    37.0    37.0  \n",
       "1     0.0     4.0     4.0  \n",
       "2    14.0     2.0     0.0  \n",
       "3    19.0     6.0    18.0  \n",
       "4     1.0     0.0     0.0  \n",
       "\n",
       "[5 rows x 111 columns]"
      ]
     },
     "execution_count": 38,
     "metadata": {},
     "output_type": "execute_result"
    }
   ],
   "source": [
    "train.head()"
   ]
  },
  {
   "cell_type": "code",
   "execution_count": 4,
   "metadata": {
    "collapsed": false
   },
   "outputs": [
    {
     "data": {
      "text/html": [
       "<div>\n",
       "<style>\n",
       "    .dataframe thead tr:only-child th {\n",
       "        text-align: right;\n",
       "    }\n",
       "\n",
       "    .dataframe thead th {\n",
       "        text-align: left;\n",
       "    }\n",
       "\n",
       "    .dataframe tbody tr th {\n",
       "        vertical-align: top;\n",
       "    }\n",
       "</style>\n",
       "<table border=\"1\" class=\"dataframe\">\n",
       "  <thead>\n",
       "    <tr style=\"text-align: right;\">\n",
       "      <th></th>\n",
       "      <th>RACE</th>\n",
       "      <th>ASOURCE</th>\n",
       "      <th>ATYPE</th>\n",
       "      <th>TOTCHG</th>\n",
       "      <th>ZIPINC_QRTL</th>\n",
       "    </tr>\n",
       "  </thead>\n",
       "  <tbody>\n",
       "    <tr>\n",
       "      <th>0</th>\n",
       "      <td>1</td>\n",
       "      <td>2</td>\n",
       "      <td>2</td>\n",
       "      <td>272123</td>\n",
       "      <td>3</td>\n",
       "    </tr>\n",
       "    <tr>\n",
       "      <th>1</th>\n",
       "      <td>1</td>\n",
       "      <td>2</td>\n",
       "      <td>2</td>\n",
       "      <td>209246</td>\n",
       "      <td>1</td>\n",
       "    </tr>\n",
       "    <tr>\n",
       "      <th>2</th>\n",
       "      <td>1</td>\n",
       "      <td>2</td>\n",
       "      <td>2</td>\n",
       "      <td>305474</td>\n",
       "      <td>1</td>\n",
       "    </tr>\n",
       "    <tr>\n",
       "      <th>3</th>\n",
       "      <td>1</td>\n",
       "      <td>2</td>\n",
       "      <td>2</td>\n",
       "      <td>202973</td>\n",
       "      <td>1</td>\n",
       "    </tr>\n",
       "    <tr>\n",
       "      <th>4</th>\n",
       "      <td>1</td>\n",
       "      <td>2</td>\n",
       "      <td>2</td>\n",
       "      <td>416072</td>\n",
       "      <td>1</td>\n",
       "    </tr>\n",
       "  </tbody>\n",
       "</table>\n",
       "</div>"
      ],
      "text/plain": [
       "   RACE  ASOURCE  ATYPE  TOTCHG  ZIPINC_QRTL\n",
       "0     1        2      2  272123            3\n",
       "1     1        2      2  209246            1\n",
       "2     1        2      2  305474            1\n",
       "3     1        2      2  202973            1\n",
       "4     1        2      2  416072            1"
      ]
     },
     "execution_count": 4,
     "metadata": {},
     "output_type": "execute_result"
    }
   ],
   "source": [
    "label = train[[\"RACE\", \"ASOURCE\", \"ATYPE\", \"TOTCHG\", \"ZIPINC_QRTL\"]]\n",
    "label.head()\n"
   ]
  },
  {
   "cell_type": "code",
   "execution_count": 4,
   "metadata": {
    "collapsed": false
   },
   "outputs": [
    {
     "data": {
      "text/html": [
       "<div>\n",
       "<style>\n",
       "    .dataframe thead tr:only-child th {\n",
       "        text-align: right;\n",
       "    }\n",
       "\n",
       "    .dataframe thead th {\n",
       "        text-align: left;\n",
       "    }\n",
       "\n",
       "    .dataframe tbody tr th {\n",
       "        vertical-align: top;\n",
       "    }\n",
       "</style>\n",
       "<table border=\"1\" class=\"dataframe\">\n",
       "  <thead>\n",
       "    <tr style=\"text-align: right;\">\n",
       "      <th></th>\n",
       "      <th>RACE</th>\n",
       "      <th>ASOURCE</th>\n",
       "      <th>ATYPE</th>\n",
       "      <th>TOTCHG</th>\n",
       "      <th>ZIPINC_QRTL</th>\n",
       "    </tr>\n",
       "  </thead>\n",
       "  <tbody>\n",
       "    <tr>\n",
       "      <th>count</th>\n",
       "      <td>493420.000000</td>\n",
       "      <td>493420.000000</td>\n",
       "      <td>493420.000000</td>\n",
       "      <td>4.934200e+05</td>\n",
       "      <td>493420.000000</td>\n",
       "    </tr>\n",
       "    <tr>\n",
       "      <th>mean</th>\n",
       "      <td>1.589334</td>\n",
       "      <td>3.824496</td>\n",
       "      <td>1.827269</td>\n",
       "      <td>2.265390e+04</td>\n",
       "      <td>2.636987</td>\n",
       "    </tr>\n",
       "    <tr>\n",
       "      <th>std</th>\n",
       "      <td>1.140275</td>\n",
       "      <td>1.759979</td>\n",
       "      <td>1.003866</td>\n",
       "      <td>3.814153e+04</td>\n",
       "      <td>1.191361</td>\n",
       "    </tr>\n",
       "    <tr>\n",
       "      <th>min</th>\n",
       "      <td>1.000000</td>\n",
       "      <td>1.000000</td>\n",
       "      <td>1.000000</td>\n",
       "      <td>1.010000e+02</td>\n",
       "      <td>1.000000</td>\n",
       "    </tr>\n",
       "    <tr>\n",
       "      <th>25%</th>\n",
       "      <td>1.000000</td>\n",
       "      <td>1.000000</td>\n",
       "      <td>1.000000</td>\n",
       "      <td>6.069000e+03</td>\n",
       "      <td>1.000000</td>\n",
       "    </tr>\n",
       "    <tr>\n",
       "      <th>50%</th>\n",
       "      <td>1.000000</td>\n",
       "      <td>5.000000</td>\n",
       "      <td>1.000000</td>\n",
       "      <td>1.200000e+04</td>\n",
       "      <td>3.000000</td>\n",
       "    </tr>\n",
       "    <tr>\n",
       "      <th>75%</th>\n",
       "      <td>2.000000</td>\n",
       "      <td>5.000000</td>\n",
       "      <td>3.000000</td>\n",
       "      <td>2.515225e+04</td>\n",
       "      <td>4.000000</td>\n",
       "    </tr>\n",
       "    <tr>\n",
       "      <th>max</th>\n",
       "      <td>6.000000</td>\n",
       "      <td>5.000000</td>\n",
       "      <td>6.000000</td>\n",
       "      <td>1.461234e+06</td>\n",
       "      <td>4.000000</td>\n",
       "    </tr>\n",
       "  </tbody>\n",
       "</table>\n",
       "</div>"
      ],
      "text/plain": [
       "                RACE        ASOURCE          ATYPE        TOTCHG  \\\n",
       "count  493420.000000  493420.000000  493420.000000  4.934200e+05   \n",
       "mean        1.589334       3.824496       1.827269  2.265390e+04   \n",
       "std         1.140275       1.759979       1.003866  3.814153e+04   \n",
       "min         1.000000       1.000000       1.000000  1.010000e+02   \n",
       "25%         1.000000       1.000000       1.000000  6.069000e+03   \n",
       "50%         1.000000       5.000000       1.000000  1.200000e+04   \n",
       "75%         2.000000       5.000000       3.000000  2.515225e+04   \n",
       "max         6.000000       5.000000       6.000000  1.461234e+06   \n",
       "\n",
       "         ZIPINC_QRTL  \n",
       "count  493420.000000  \n",
       "mean        2.636987  \n",
       "std         1.191361  \n",
       "min         1.000000  \n",
       "25%         1.000000  \n",
       "50%         3.000000  \n",
       "75%         4.000000  \n",
       "max         4.000000  "
      ]
     },
     "execution_count": 4,
     "metadata": {},
     "output_type": "execute_result"
    }
   ],
   "source": [
    "label.describe()"
   ]
  },
  {
   "cell_type": "code",
   "execution_count": 5,
   "metadata": {
    "collapsed": false
   },
   "outputs": [
    {
     "name": "stdout",
     "output_type": "stream",
     "text": [
      "(493420, 111)\n",
      "(493420, 106)\n"
     ]
    }
   ],
   "source": [
    "print(train.shape)\n",
    "train = train.drop([\"RACE\", \"ASOURCE\", \"ATYPE\", \"TOTCHG\", \"ZIPINC_QRTL\"],1)\n",
    "print(train.shape)"
   ]
  },
  {
   "cell_type": "markdown",
   "metadata": {},
   "source": [
    "## RACE"
   ]
  },
  {
   "cell_type": "code",
   "execution_count": 6,
   "metadata": {
    "collapsed": false
   },
   "outputs": [
    {
     "name": "stdout",
     "output_type": "stream",
     "text": [
      "(345394, 106) (345394,)\n",
      "(148026, 106) (148026,)\n"
     ]
    }
   ],
   "source": [
    "X_train, X_test, y_train, y_test = train_test_split(train, label.RACE, test_size=0.3)\n",
    "print(X_train.shape, y_train.shape)\n",
    "print(X_test.shape, y_test.shape)"
   ]
  },
  {
   "cell_type": "code",
   "execution_count": 43,
   "metadata": {
    "collapsed": false
   },
   "outputs": [
    {
     "name": "stdout",
     "output_type": "stream",
     "text": [
      "Train score: 0.9772317990468856\n",
      "Test score: 0.7443219434423682\n",
      "[[95447  4725  1002    83     6   289]\n",
      " [13993  9634  2043    52     3   242]\n",
      " [ 5725  2758  3712    29     3   192]\n",
      " [ 1480   354   136    26     0    39]\n",
      " [  180    18    23     2     2     1]\n",
      " [ 2810  1164   465    28     2  1358]]\n"
     ]
    }
   ],
   "source": [
    "clf = RandomForestClassifier()\n",
    "clf.fit(X_train,y_train)\n",
    "print(\"Train score: {}\".format(clf.score(X_train,y_train)))\n",
    "print(\"Test score: {}\".format(clf.score(X_test, y_test)))\n",
    "print(confusion_matrix(y_test, clf.predict(X_test)))"
   ]
  },
  {
   "cell_type": "code",
   "execution_count": 44,
   "metadata": {
    "collapsed": false
   },
   "outputs": [
    {
     "name": "stdout",
     "output_type": "stream",
     "text": [
      "best para: {'max_depth': 20}\n",
      "Train score: 0.8605650358720766\n",
      "Test score: 0.7530771621201681\n",
      "[[96235  4505   672     9     0   131]\n",
      " [13826  9741  2279     1     0   120]\n",
      " [ 5765  2337  4184     3     0   130]\n",
      " [ 1484   411   111     2     0    27]\n",
      " [  187    16    19     0     2     2]\n",
      " [ 2752  1285   477     2     0  1311]]\n"
     ]
    }
   ],
   "source": [
    "def rf_para_search(X_train, y_train):\n",
    "    from sklearn.model_selection import GridSearchCV\n",
    "    clf = RandomForestClassifier( max_depth=30)\n",
    "    param_grid = {\"max_depth\": [10,20,30,40,50]\n",
    "    }\n",
    "    # set different n_estimators in the \n",
    "    CV_clf = GridSearchCV(estimator= clf, param_grid=param_grid, cv=5)\n",
    "    CV_clf.fit(X_train, y_train)\n",
    "    params = CV_clf.best_params_\n",
    "    print('best para:', params)\n",
    "    return params\n",
    "\n",
    "params = rf_para_search(X_train, y_train)\n",
    "clf = RandomForestClassifier(max_depth=params[\"max_depth\"])\n",
    "clf.fit(X_train,y_train)\n",
    "print(\"Train score: {}\".format(clf.score(X_train,y_train)))\n",
    "print(\"Test score: {}\".format(clf.score(X_test, y_test)))\n",
    "print(confusion_matrix(y_test, clf.predict(X_test)))"
   ]
  },
  {
   "cell_type": "markdown",
   "metadata": {},
   "source": [
    "## ASOURCE"
   ]
  },
  {
   "cell_type": "code",
   "execution_count": 47,
   "metadata": {
    "collapsed": false
   },
   "outputs": [
    {
     "data": {
      "text/plain": [
       "0.75346125475915771"
      ]
     },
     "execution_count": 47,
     "metadata": {},
     "output_type": "execute_result"
    }
   ],
   "source": [
    "from sklearn.model_selection import cross_val_score\n",
    "scores = cross_val_score(clf, X_train, y_train, cv=5)\n",
    "scores.mean()"
   ]
  },
  {
   "cell_type": "code",
   "execution_count": 48,
   "metadata": {
    "collapsed": false
   },
   "outputs": [
    {
     "name": "stdout",
     "output_type": "stream",
     "text": [
      "(345394, 106) (345394,)\n",
      "(148026, 106) (148026,)\n",
      "Train score: 0.20174062085618163\n",
      "Test score: 0.20488968154243173\n",
      "[[29550  4969  2636    78    20   521]\n",
      " [ 4342   661    70    12     1    46]\n",
      " [ 3779   425   101    16     1    20]\n",
      " [   38     3     1     0     0     0]\n",
      " [78374 14197  6062   196    17  1890]\n",
      " [    0     0     0     0     0     0]]\n"
     ]
    }
   ],
   "source": [
    "X_train, X_test, y_train, y_test = train_test_split(train, label.ASOURCE, test_size=0.3)\n",
    "print(X_train.shape, y_train.shape)\n",
    "print(X_test.shape, y_test.shape)\n",
    "\n",
    "clf2 = RandomForestClassifier(max_depth=30)\n",
    "clf2.fit(X_train,y_train)\n",
    "print(\"Train score: {}\".format(clf.score(X_train,y_train)))\n",
    "print(\"Test score: {}\".format(clf.score(X_test, y_test)))\n",
    "print(confusion_matrix(y_test, clf.predict(X_test)))"
   ]
  },
  {
   "cell_type": "code",
   "execution_count": 50,
   "metadata": {
    "collapsed": false
   },
   "outputs": [
    {
     "name": "stdout",
     "output_type": "stream",
     "text": [
      "(345394, 106) (345394,)\n",
      "(148026, 106) (148026,)\n",
      "Train score: 0.20276264208411263\n",
      "Test score: 0.20250496534392606\n",
      "[[29238  4868  2601    78    19   522]\n",
      " [ 4364   608    64     8     2    51]\n",
      " [ 3814   404   108     8     1    28]\n",
      " [   40     2     1     0     0     1]\n",
      " [78945 14168  6011   194    22  1856]\n",
      " [    0     0     0     0     0     0]]\n"
     ]
    }
   ],
   "source": [
    "X_train, X_test, y_train, y_test = train_test_split(train, label.ASOURCE, test_size=0.3)\n",
    "print(X_train.shape, y_train.shape)\n",
    "print(X_test.shape, y_test.shape)\n",
    "\n",
    "clf2 = RandomForestClassifier(max_depth=30)\n",
    "clf2.fit(X_train,y_train)\n",
    "print(\"Train score: {}\".format(clf.score(X_train,y_train)))\n",
    "print(\"Test score: {}\".format(clf.score(X_test, y_test)))\n",
    "print(confusion_matrix(y_test, clf.predict(X_test)))"
   ]
  },
  {
   "cell_type": "code",
   "execution_count": 49,
   "metadata": {
    "collapsed": false
   },
   "outputs": [
    {
     "name": "stdout",
     "output_type": "stream",
     "text": [
      "best para: {'max_depth': 30}\n",
      "Train score: 0.9924839458705131\n",
      "Test score: 0.8872225149635875\n",
      "[[33900   286   143     0  3445]\n",
      " [ 1240  1958    63     0  1871]\n",
      " [ 1356   100   804     0  2082]\n",
      " [   25     1     0     0    16]\n",
      " [ 5126   574   366     0 94670]]\n"
     ]
    }
   ],
   "source": [
    "def rf_para_search(X_train, y_train):\n",
    "    from sklearn.model_selection import GridSearchCV\n",
    "    clf = RandomForestClassifier( max_depth=30)\n",
    "    param_grid = {\"max_depth\": [10,20,30,40,50]\n",
    "    }\n",
    "    # set different n_estimators in the \n",
    "    CV_clf = GridSearchCV(estimator= clf, param_grid=param_grid, cv=5)\n",
    "    CV_clf.fit(X_train, y_train)\n",
    "    params = CV_clf.best_params_\n",
    "    print('best para:', params)\n",
    "    return params\n",
    "\n",
    "params = rf_para_search(X_train, y_train)\n",
    "clf2 = RandomForestClassifier(max_depth=params[\"max_depth\"])\n",
    "clf2.fit(X_train,y_train)\n",
    "print(\"Train score: {}\".format(clf2.score(X_train,y_train)))\n",
    "print(\"Test score: {}\".format(clf2.score(X_test, y_test)))\n",
    "print(confusion_matrix(y_test, clf2.predict(X_test)))"
   ]
  },
  {
   "cell_type": "code",
   "execution_count": 51,
   "metadata": {
    "collapsed": false
   },
   "outputs": [
    {
     "data": {
      "text/plain": [
       "0.8877658367355471"
      ]
     },
     "execution_count": 51,
     "metadata": {},
     "output_type": "execute_result"
    }
   ],
   "source": [
    "scores = cross_val_score(clf2, X_train, y_train, cv=5)\n",
    "scores.mean()"
   ]
  },
  {
   "cell_type": "markdown",
   "metadata": {},
   "source": [
    "## ATYPE"
   ]
  },
  {
   "cell_type": "code",
   "execution_count": 53,
   "metadata": {
    "collapsed": false
   },
   "outputs": [
    {
     "name": "stdout",
     "output_type": "stream",
     "text": [
      "(345394, 106) (345394,)\n",
      "(148026, 106) (148026,)\n",
      "Train score: 0.9825243055756614\n",
      "Test score: 0.8404199262291759\n",
      "[[73210  2454  2493    39    12    23]\n",
      " [ 8920 16161  1771    54     0     3]\n",
      " [ 5575  1901 25785    23     1     4]\n",
      " [    4     9     2  9163     0     0]\n",
      " [  166     2     9     0    42     0]\n",
      " [  122    23    12     0     0    43]]\n"
     ]
    }
   ],
   "source": [
    "X_train, X_test, y_train, y_test = train_test_split(train, label.ATYPE, test_size=0.3)\n",
    "print(X_train.shape, y_train.shape)\n",
    "print(X_test.shape, y_test.shape)\n",
    "\n",
    "clf3 = RandomForestClassifier(max_depth=30)\n",
    "clf3.fit(X_train,y_train)\n",
    "print(\"Train score: {}\".format(clf3.score(X_train,y_train)))\n",
    "print(\"Test score: {}\".format(clf3.score(X_test, y_test)))\n",
    "print(confusion_matrix(y_test, clf3.predict(X_test)))"
   ]
  },
  {
   "cell_type": "code",
   "execution_count": 54,
   "metadata": {
    "collapsed": false
   },
   "outputs": [
    {
     "data": {
      "text/plain": [
       "0.83785761625101429"
      ]
     },
     "execution_count": 54,
     "metadata": {},
     "output_type": "execute_result"
    }
   ],
   "source": [
    "scores = cross_val_score(clf3, X_train, y_train, cv=5)\n",
    "scores.mean()"
   ]
  },
  {
   "cell_type": "markdown",
   "metadata": {},
   "source": [
    " ## ZIPINC_QRTL"
   ]
  },
  {
   "cell_type": "code",
   "execution_count": 10,
   "metadata": {
    "collapsed": false
   },
   "outputs": [
    {
     "name": "stdout",
     "output_type": "stream",
     "text": [
      "(345394, 106) (345394,)\n",
      "(148026, 106) (148026,)\n",
      "Train score: 0.9520315929054934\n",
      "Test score: 0.5656708956534663\n",
      "[[25341  4975  4573  3478]\n",
      " [ 7619  9566  5047  4049]\n",
      " [ 5944  5024 12103 10991]\n",
      " [ 3396  2810  6386 36724]]\n"
     ]
    }
   ],
   "source": [
    "X_train, X_test, y_train, y_test = train_test_split(train, label.ZIPINC_QRTL, test_size=0.3)\n",
    "print(X_train.shape, y_train.shape)\n",
    "print(X_test.shape, y_test.shape)\n",
    "\n",
    "clf5 = RandomForestClassifier(max_depth=30)\n",
    "clf5.fit(X_train,y_train)\n",
    "print(\"Train score: {}\".format(clf5.score(X_train,y_train)))\n",
    "print(\"Test score: {}\".format(clf5.score(X_test, y_test)))\n",
    "print(confusion_matrix(y_test, clf5.predict(X_test)))"
   ]
  },
  {
   "cell_type": "code",
   "execution_count": 13,
   "metadata": {
    "collapsed": false
   },
   "outputs": [
    {
     "data": {
      "text/plain": [
       "0.56296578992901058"
      ]
     },
     "execution_count": 13,
     "metadata": {},
     "output_type": "execute_result"
    }
   ],
   "source": [
    "scores = cross_val_score(clf5, X_train, y_train, cv=5)\n",
    "scores.mean()"
   ]
  },
  {
   "cell_type": "markdown",
   "metadata": {},
   "source": [
    "## Light GBM"
   ]
  },
  {
   "cell_type": "code",
   "execution_count": 6,
   "metadata": {
    "collapsed": false
   },
   "outputs": [
    {
     "name": "stdout",
     "output_type": "stream",
     "text": [
      "(345394, 106) (345394,)\n",
      "(148026, 106) (148026,)\n"
     ]
    }
   ],
   "source": [
    "X_train, X_test, y_train, y_test = train_test_split(train, label.TOTCHG, test_size=0.3)\n",
    "print(X_train.shape, y_train.shape)\n",
    "print(X_test.shape,\n",
    "      y_test.shape)"
   ]
  },
  {
   "cell_type": "code",
   "execution_count": 7,
   "metadata": {
    "collapsed": false
   },
   "outputs": [],
   "source": [
    "rounds = 1000\n",
    "\n",
    "param  = {\n",
    "    'objective': 'regression',\n",
    "    'metric': 'binary_logloss',\n",
    "    'boosting': 'gbdt',\n",
    "    'learning_rate': 0.01,\n",
    "    'feature_fraction': 0.7,\n",
    "    'bagging_fraction': 0.7,\n",
    "    'bagging_freq': 1,\n",
    "    'num_boost_round': rounds\n",
    "}"
   ]
  },
  {
   "cell_type": "code",
   "execution_count": 8,
   "metadata": {
    "collapsed": false
   },
   "outputs": [
    {
     "data": {
      "text/plain": [
       "array([  19968.86621762,    5400.47920406,   38163.50593078, ...,\n",
       "         10028.18628369,    5396.64880823,  103577.23705564])"
      ]
     },
     "execution_count": 8,
     "metadata": {},
     "output_type": "execute_result"
    }
   ],
   "source": [
    "data_lgb = lgb.Dataset(X_train, y_train)\n",
    "lgbm = lgb.train(param, data_lgb)\n",
    "pred = lgbm.predict(X_test)\n",
    "pred"
   ]
  },
  {
   "cell_type": "code",
   "execution_count": 14,
   "metadata": {
    "collapsed": false
   },
   "outputs": [
    {
     "data": {
      "text/plain": [
       "0.52484870183752719"
      ]
     },
     "execution_count": 14,
     "metadata": {},
     "output_type": "execute_result"
    }
   ],
   "source": [
    "r2_score(y_test, pred)\n"
   ]
  },
  {
   "cell_type": "code",
   "execution_count": 29,
   "metadata": {
    "collapsed": false
   },
   "outputs": [
    {
     "data": {
      "text/plain": [
       "4    164666\n",
       "1    128451\n",
       "3    113421\n",
       "2     86882\n",
       "Name: ZIPINC_QRTL, dtype: int64"
      ]
     },
     "execution_count": 29,
     "metadata": {},
     "output_type": "execute_result"
    }
   ],
   "source": [
    "label.ZIPINC_QRTL=label.ZIPINC_QRTL.astype('category')\n",
    "label.ZIPINC_QRTL.value_counts()"
   ]
  },
  {
   "cell_type": "code",
   "execution_count": 25,
   "metadata": {
    "collapsed": false
   },
   "outputs": [
    {
     "name": "stdout",
     "output_type": "stream",
     "text": [
      "(345394, 106) (345394,)\n",
      "(148026, 106) (148026,)\n"
     ]
    }
   ],
   "source": [
    "X_train, X_test, y_train, y_test = train_test_split(train, label.ZIPINC_QRTL, test_size=0.3)\n",
    "print(X_train.shape, y_train.shape)\n",
    "print(X_test.shape, y_test.shape)"
   ]
  },
  {
   "cell_type": "code",
   "execution_count": 60,
   "metadata": {
    "collapsed": true
   },
   "outputs": [],
   "source": [
    "rounds = 1000\n",
    "\n",
    "param  = {\n",
    "    'objective': 'multiclass',\n",
    "    'metric': 'binary_logloss',\n",
    "    'boosting': 'gbdt',\n",
    "    'learning_rate': 0.01,\n",
    "    'feature_fraction': 0.7,\n",
    "    'bagging_fraction': 0.7,\n",
    "    'bagging_freq': 1,\n",
    "    'num_boost_round': rounds,\n",
    "    'num_class': 5\n",
    "}"
   ]
  },
  {
   "cell_type": "code",
   "execution_count": 61,
   "metadata": {
    "collapsed": false
   },
   "outputs": [
    {
     "data": {
      "text/plain": [
       "array([[  1.95152189e-16,   1.61164432e-01,   8.31938048e-02,\n",
       "          1.38919026e-01,   6.16722738e-01],\n",
       "       [  2.19579500e-16,   4.50439749e-02,   6.51431907e-01,\n",
       "          1.67207592e-01,   1.36316526e-01],\n",
       "       [  2.01676699e-16,   3.81760652e-02,   8.84571163e-02,\n",
       "          2.14952285e-01,   6.58414534e-01],\n",
       "       ..., \n",
       "       [  2.37927232e-16,   1.20599972e-01,   1.56787922e-01,\n",
       "          1.80023957e-01,   5.42588149e-01],\n",
       "       [  2.35450683e-16,   4.26212322e-02,   2.26183140e-01,\n",
       "          3.45716025e-01,   3.85479602e-01],\n",
       "       [  2.60814874e-16,   3.91263730e-01,   4.96391634e-01,\n",
       "          9.31818274e-02,   1.91628081e-02]])"
      ]
     },
     "execution_count": 61,
     "metadata": {},
     "output_type": "execute_result"
    }
   ],
   "source": [
    "data_lgb = lgb.Dataset(X_train, y_train)\n",
    "lgbm = lgb.train(param, data_lgb)\n",
    "pred = lgbm.predict(X_test)\n",
    "pred"
   ]
  },
  {
   "cell_type": "code",
   "execution_count": 63,
   "metadata": {
    "collapsed": false
   },
   "outputs": [
    {
     "data": {
      "text/html": [
       "<div>\n",
       "<style>\n",
       "    .dataframe thead tr:only-child th {\n",
       "        text-align: right;\n",
       "    }\n",
       "\n",
       "    .dataframe thead th {\n",
       "        text-align: left;\n",
       "    }\n",
       "\n",
       "    .dataframe tbody tr th {\n",
       "        vertical-align: top;\n",
       "    }\n",
       "</style>\n",
       "<table border=\"1\" class=\"dataframe\">\n",
       "  <thead>\n",
       "    <tr style=\"text-align: right;\">\n",
       "      <th></th>\n",
       "      <th>0</th>\n",
       "      <th>1</th>\n",
       "      <th>2</th>\n",
       "      <th>3</th>\n",
       "      <th>4</th>\n",
       "    </tr>\n",
       "  </thead>\n",
       "  <tbody>\n",
       "    <tr>\n",
       "      <th>0</th>\n",
       "      <td>1.951522e-16</td>\n",
       "      <td>0.161164</td>\n",
       "      <td>0.083194</td>\n",
       "      <td>0.138919</td>\n",
       "      <td>0.616723</td>\n",
       "    </tr>\n",
       "    <tr>\n",
       "      <th>1</th>\n",
       "      <td>2.195795e-16</td>\n",
       "      <td>0.045044</td>\n",
       "      <td>0.651432</td>\n",
       "      <td>0.167208</td>\n",
       "      <td>0.136317</td>\n",
       "    </tr>\n",
       "    <tr>\n",
       "      <th>2</th>\n",
       "      <td>2.016767e-16</td>\n",
       "      <td>0.038176</td>\n",
       "      <td>0.088457</td>\n",
       "      <td>0.214952</td>\n",
       "      <td>0.658415</td>\n",
       "    </tr>\n",
       "    <tr>\n",
       "      <th>3</th>\n",
       "      <td>2.113831e-16</td>\n",
       "      <td>0.451835</td>\n",
       "      <td>0.220458</td>\n",
       "      <td>0.280398</td>\n",
       "      <td>0.047309</td>\n",
       "    </tr>\n",
       "    <tr>\n",
       "      <th>4</th>\n",
       "      <td>1.362274e-16</td>\n",
       "      <td>0.012482</td>\n",
       "      <td>0.013904</td>\n",
       "      <td>0.120249</td>\n",
       "      <td>0.853365</td>\n",
       "    </tr>\n",
       "  </tbody>\n",
       "</table>\n",
       "</div>"
      ],
      "text/plain": [
       "              0         1         2         3         4\n",
       "0  1.951522e-16  0.161164  0.083194  0.138919  0.616723\n",
       "1  2.195795e-16  0.045044  0.651432  0.167208  0.136317\n",
       "2  2.016767e-16  0.038176  0.088457  0.214952  0.658415\n",
       "3  2.113831e-16  0.451835  0.220458  0.280398  0.047309\n",
       "4  1.362274e-16  0.012482  0.013904  0.120249  0.853365"
      ]
     },
     "execution_count": 63,
     "metadata": {},
     "output_type": "execute_result"
    }
   ],
   "source": [
    "pred1.head()"
   ]
  },
  {
   "cell_type": "code",
   "execution_count": 62,
   "metadata": {
    "collapsed": false
   },
   "outputs": [],
   "source": [
    "pred1 = pd.DataFrame(pred)"
   ]
  },
  {
   "cell_type": "code",
   "execution_count": 58,
   "metadata": {
    "collapsed": false
   },
   "outputs": [],
   "source": [
    "max_ = pred1.max(1)"
   ]
  },
  {
   "cell_type": "code",
   "execution_count": null,
   "metadata": {
    "collapsed": true
   },
   "outputs": [],
   "source": []
  },
  {
   "cell_type": "markdown",
   "metadata": {},
   "source": [
    "## Stochastic Gradient Descent - SGD"
   ]
  },
  {
   "cell_type": "code",
   "execution_count": 13,
   "metadata": {
    "collapsed": true
   },
   "outputs": [],
   "source": [
    "from sklearn.linear_model import SGDClassifier"
   ]
  },
  {
   "cell_type": "code",
   "execution_count": 14,
   "metadata": {
    "collapsed": false
   },
   "outputs": [
    {
     "data": {
      "text/plain": [
       "SGDClassifier(alpha=0.0001, average=False, class_weight=None, epsilon=0.1,\n",
       "       eta0=0.0, fit_intercept=True, l1_ratio=0.15,\n",
       "       learning_rate='optimal', loss='hinge', max_iter=None, n_iter=None,\n",
       "       n_jobs=1, penalty='l2', power_t=0.5, random_state=None,\n",
       "       shuffle=True, tol=None, verbose=0, warm_start=False)"
      ]
     },
     "execution_count": 14,
     "metadata": {},
     "output_type": "execute_result"
    }
   ],
   "source": [
    "clf = SGDClassifier(loss=\"hinge\", penalty=\"l2\")\n",
    "clf.fit(X_train, y_train)\n"
   ]
  },
  {
   "cell_type": "code",
   "execution_count": 22,
   "metadata": {
    "collapsed": false
   },
   "outputs": [
    {
     "name": "stdout",
     "output_type": "stream",
     "text": [
      "[3 3 3 ..., 3 3 3]\n"
     ]
    },
    {
     "data": {
      "text/plain": [
       "array([3])"
      ]
     },
     "execution_count": 22,
     "metadata": {},
     "output_type": "execute_result"
    }
   ],
   "source": [
    "y_pred =clf.predict(X_test)\n",
    "print(y_pred)\n",
    "np.unique(y_pred)"
   ]
  },
  {
   "cell_type": "code",
   "execution_count": 21,
   "metadata": {
    "collapsed": false
   },
   "outputs": [
    {
     "data": {
      "text/plain": [
       "8.4100000000000001"
      ]
     },
     "execution_count": 21,
     "metadata": {},
     "output_type": "execute_result"
    }
   ],
   "source": [
    "acc_sgd = round(clf.score(X_train, y_train) * 100, 2)\n",
    "acc_sgd"
   ]
  }
 ],
 "metadata": {
  "anaconda-cloud": {},
  "kernelspec": {
   "display_name": "Python [Root]",
   "language": "python",
   "name": "Python [Root]"
  },
  "language_info": {
   "codemirror_mode": {
    "name": "ipython",
    "version": 3
   },
   "file_extension": ".py",
   "mimetype": "text/x-python",
   "name": "python",
   "nbconvert_exporter": "python",
   "pygments_lexer": "ipython3",
   "version": "3.5.2"
  }
 },
 "nbformat": 4,
 "nbformat_minor": 0
}
