{
 "cells": [
  {
   "cell_type": "code",
   "execution_count": 1,
   "metadata": {
    "collapsed": false
   },
   "outputs": [],
   "source": [
    "import pandas as pd\n",
    "import numpy as ny\n",
    "import warnings\n",
    "warnings.simplefilter(action='ignore', category=FutureWarning)\n",
    "%matplotlib inline\n",
    "import matplotlib.pyplot as plt\n",
    "plt.style.use('ggplot')\n",
    "import seaborn as sns"
   ]
  },
  {
   "cell_type": "markdown",
   "metadata": {},
   "source": [
    "## Exploratory Data Analysis(EDA)"
   ]
  },
  {
   "cell_type": "code",
   "execution_count": 2,
   "metadata": {
    "collapsed": false
   },
   "outputs": [],
   "source": [
    "train = pd.read_csv('/Volumes/Transcend/gwu_course/ml1/project/data_train.csv')"
   ]
  },
  {
   "cell_type": "code",
   "execution_count": 3,
   "metadata": {
    "collapsed": false
   },
   "outputs": [
    {
     "data": {
      "text/plain": [
       "(494932, 111)"
      ]
     },
     "execution_count": 3,
     "metadata": {},
     "output_type": "execute_result"
    }
   ],
   "source": [
    "train.shape"
   ]
  },
  {
   "cell_type": "code",
   "execution_count": 4,
   "metadata": {
    "collapsed": false
   },
   "outputs": [
    {
     "data": {
      "text/plain": [
       "0.0    484319\n",
       "1.0     10077\n",
       "Name: DIED, dtype: int64"
      ]
     },
     "execution_count": 4,
     "metadata": {},
     "output_type": "execute_result"
    }
   ],
   "source": [
    "train.DIED.value_counts()"
   ]
  },
  {
   "cell_type": "code",
   "execution_count": 4,
   "metadata": {
    "collapsed": false
   },
   "outputs": [
    {
     "data": {
      "text/html": [
       "<div>\n",
       "<style>\n",
       "    .dataframe thead tr:only-child th {\n",
       "        text-align: right;\n",
       "    }\n",
       "\n",
       "    .dataframe thead th {\n",
       "        text-align: left;\n",
       "    }\n",
       "\n",
       "    .dataframe tbody tr th {\n",
       "        vertical-align: top;\n",
       "    }\n",
       "</style>\n",
       "<table border=\"1\" class=\"dataframe\">\n",
       "  <thead>\n",
       "    <tr style=\"text-align: right;\">\n",
       "      <th></th>\n",
       "      <th>AGE</th>\n",
       "      <th>AMONTH</th>\n",
       "      <th>ASOURCE</th>\n",
       "      <th>ATYPE</th>\n",
       "      <th>AWEEKEND</th>\n",
       "      <th>DIED</th>\n",
       "      <th>DISCWT</th>\n",
       "      <th>DISPUNIFORM</th>\n",
       "      <th>DQTR</th>\n",
       "      <th>DXCCS1</th>\n",
       "      <th>...</th>\n",
       "      <th>CM_OBESE</th>\n",
       "      <th>CM_PARA</th>\n",
       "      <th>CM_PERIVASC</th>\n",
       "      <th>CM_PSYCH</th>\n",
       "      <th>CM_PULMCIRC</th>\n",
       "      <th>CM_RENLFAIL</th>\n",
       "      <th>CM_TUMOR</th>\n",
       "      <th>CM_ULCER</th>\n",
       "      <th>CM_VALVE</th>\n",
       "      <th>CM_WGHTLOSS</th>\n",
       "    </tr>\n",
       "  </thead>\n",
       "  <tbody>\n",
       "    <tr>\n",
       "      <th>count</th>\n",
       "      <td>494898.000000</td>\n",
       "      <td>494930.000000</td>\n",
       "      <td>494932.000000</td>\n",
       "      <td>494932.000000</td>\n",
       "      <td>494930.000000</td>\n",
       "      <td>494396.000000</td>\n",
       "      <td>494932.000000</td>\n",
       "      <td>494396.000000</td>\n",
       "      <td>494932.000000</td>\n",
       "      <td>494614.000000</td>\n",
       "      <td>...</td>\n",
       "      <td>494932.000000</td>\n",
       "      <td>494932.000000</td>\n",
       "      <td>494932.000000</td>\n",
       "      <td>494932.000000</td>\n",
       "      <td>494932.000000</td>\n",
       "      <td>494932.000000</td>\n",
       "      <td>494932.000000</td>\n",
       "      <td>494932.000000</td>\n",
       "      <td>494932.000000</td>\n",
       "      <td>494932.000000</td>\n",
       "    </tr>\n",
       "    <tr>\n",
       "      <th>mean</th>\n",
       "      <td>52.883879</td>\n",
       "      <td>6.443022</td>\n",
       "      <td>3.824030</td>\n",
       "      <td>1.826384</td>\n",
       "      <td>0.195218</td>\n",
       "      <td>0.020382</td>\n",
       "      <td>5.030307</td>\n",
       "      <td>2.727296</td>\n",
       "      <td>2.483408</td>\n",
       "      <td>187.461629</td>\n",
       "      <td>...</td>\n",
       "      <td>0.091324</td>\n",
       "      <td>0.020639</td>\n",
       "      <td>0.046196</td>\n",
       "      <td>0.045889</td>\n",
       "      <td>0.018035</td>\n",
       "      <td>0.088077</td>\n",
       "      <td>0.018441</td>\n",
       "      <td>0.000333</td>\n",
       "      <td>0.033861</td>\n",
       "      <td>0.034684</td>\n",
       "    </tr>\n",
       "    <tr>\n",
       "      <th>std</th>\n",
       "      <td>25.811078</td>\n",
       "      <td>3.443515</td>\n",
       "      <td>1.760121</td>\n",
       "      <td>1.003085</td>\n",
       "      <td>0.396368</td>\n",
       "      <td>0.141305</td>\n",
       "      <td>0.390965</td>\n",
       "      <td>3.304773</td>\n",
       "      <td>1.116190</td>\n",
       "      <td>155.907248</td>\n",
       "      <td>...</td>\n",
       "      <td>0.288069</td>\n",
       "      <td>0.142173</td>\n",
       "      <td>0.209910</td>\n",
       "      <td>0.209245</td>\n",
       "      <td>0.133077</td>\n",
       "      <td>0.283407</td>\n",
       "      <td>0.134540</td>\n",
       "      <td>0.018256</td>\n",
       "      <td>0.180872</td>\n",
       "      <td>0.182977</td>\n",
       "    </tr>\n",
       "    <tr>\n",
       "      <th>min</th>\n",
       "      <td>0.000000</td>\n",
       "      <td>1.000000</td>\n",
       "      <td>1.000000</td>\n",
       "      <td>1.000000</td>\n",
       "      <td>0.000000</td>\n",
       "      <td>0.000000</td>\n",
       "      <td>3.705787</td>\n",
       "      <td>1.000000</td>\n",
       "      <td>1.000000</td>\n",
       "      <td>1.000000</td>\n",
       "      <td>...</td>\n",
       "      <td>0.000000</td>\n",
       "      <td>0.000000</td>\n",
       "      <td>0.000000</td>\n",
       "      <td>0.000000</td>\n",
       "      <td>0.000000</td>\n",
       "      <td>0.000000</td>\n",
       "      <td>0.000000</td>\n",
       "      <td>0.000000</td>\n",
       "      <td>0.000000</td>\n",
       "      <td>0.000000</td>\n",
       "    </tr>\n",
       "    <tr>\n",
       "      <th>25%</th>\n",
       "      <td>35.000000</td>\n",
       "      <td>3.000000</td>\n",
       "      <td>1.000000</td>\n",
       "      <td>1.000000</td>\n",
       "      <td>0.000000</td>\n",
       "      <td>0.000000</td>\n",
       "      <td>4.836384</td>\n",
       "      <td>1.000000</td>\n",
       "      <td>1.000000</td>\n",
       "      <td>106.000000</td>\n",
       "      <td>...</td>\n",
       "      <td>0.000000</td>\n",
       "      <td>0.000000</td>\n",
       "      <td>0.000000</td>\n",
       "      <td>0.000000</td>\n",
       "      <td>0.000000</td>\n",
       "      <td>0.000000</td>\n",
       "      <td>0.000000</td>\n",
       "      <td>0.000000</td>\n",
       "      <td>0.000000</td>\n",
       "      <td>0.000000</td>\n",
       "    </tr>\n",
       "    <tr>\n",
       "      <th>50%</th>\n",
       "      <td>56.000000</td>\n",
       "      <td>6.000000</td>\n",
       "      <td>5.000000</td>\n",
       "      <td>1.000000</td>\n",
       "      <td>0.000000</td>\n",
       "      <td>0.000000</td>\n",
       "      <td>5.091242</td>\n",
       "      <td>1.000000</td>\n",
       "      <td>2.000000</td>\n",
       "      <td>152.000000</td>\n",
       "      <td>...</td>\n",
       "      <td>0.000000</td>\n",
       "      <td>0.000000</td>\n",
       "      <td>0.000000</td>\n",
       "      <td>0.000000</td>\n",
       "      <td>0.000000</td>\n",
       "      <td>0.000000</td>\n",
       "      <td>0.000000</td>\n",
       "      <td>0.000000</td>\n",
       "      <td>0.000000</td>\n",
       "      <td>0.000000</td>\n",
       "    </tr>\n",
       "    <tr>\n",
       "      <th>75%</th>\n",
       "      <td>74.000000</td>\n",
       "      <td>9.000000</td>\n",
       "      <td>5.000000</td>\n",
       "      <td>3.000000</td>\n",
       "      <td>0.000000</td>\n",
       "      <td>0.000000</td>\n",
       "      <td>5.369309</td>\n",
       "      <td>5.000000</td>\n",
       "      <td>3.000000</td>\n",
       "      <td>218.000000</td>\n",
       "      <td>...</td>\n",
       "      <td>0.000000</td>\n",
       "      <td>0.000000</td>\n",
       "      <td>0.000000</td>\n",
       "      <td>0.000000</td>\n",
       "      <td>0.000000</td>\n",
       "      <td>0.000000</td>\n",
       "      <td>0.000000</td>\n",
       "      <td>0.000000</td>\n",
       "      <td>0.000000</td>\n",
       "      <td>0.000000</td>\n",
       "    </tr>\n",
       "    <tr>\n",
       "      <th>max</th>\n",
       "      <td>110.000000</td>\n",
       "      <td>12.000000</td>\n",
       "      <td>5.000000</td>\n",
       "      <td>6.000000</td>\n",
       "      <td>1.000000</td>\n",
       "      <td>1.000000</td>\n",
       "      <td>6.340997</td>\n",
       "      <td>99.000000</td>\n",
       "      <td>4.000000</td>\n",
       "      <td>670.000000</td>\n",
       "      <td>...</td>\n",
       "      <td>1.000000</td>\n",
       "      <td>1.000000</td>\n",
       "      <td>1.000000</td>\n",
       "      <td>1.000000</td>\n",
       "      <td>1.000000</td>\n",
       "      <td>1.000000</td>\n",
       "      <td>1.000000</td>\n",
       "      <td>1.000000</td>\n",
       "      <td>1.000000</td>\n",
       "      <td>1.000000</td>\n",
       "    </tr>\n",
       "  </tbody>\n",
       "</table>\n",
       "<p>8 rows × 111 columns</p>\n",
       "</div>"
      ],
      "text/plain": [
       "                 AGE         AMONTH        ASOURCE          ATYPE  \\\n",
       "count  494898.000000  494930.000000  494932.000000  494932.000000   \n",
       "mean       52.883879       6.443022       3.824030       1.826384   \n",
       "std        25.811078       3.443515       1.760121       1.003085   \n",
       "min         0.000000       1.000000       1.000000       1.000000   \n",
       "25%        35.000000       3.000000       1.000000       1.000000   \n",
       "50%        56.000000       6.000000       5.000000       1.000000   \n",
       "75%        74.000000       9.000000       5.000000       3.000000   \n",
       "max       110.000000      12.000000       5.000000       6.000000   \n",
       "\n",
       "            AWEEKEND           DIED         DISCWT    DISPUNIFORM  \\\n",
       "count  494930.000000  494396.000000  494932.000000  494396.000000   \n",
       "mean        0.195218       0.020382       5.030307       2.727296   \n",
       "std         0.396368       0.141305       0.390965       3.304773   \n",
       "min         0.000000       0.000000       3.705787       1.000000   \n",
       "25%         0.000000       0.000000       4.836384       1.000000   \n",
       "50%         0.000000       0.000000       5.091242       1.000000   \n",
       "75%         0.000000       0.000000       5.369309       5.000000   \n",
       "max         1.000000       1.000000       6.340997      99.000000   \n",
       "\n",
       "                DQTR         DXCCS1      ...             CM_OBESE  \\\n",
       "count  494932.000000  494614.000000      ...        494932.000000   \n",
       "mean        2.483408     187.461629      ...             0.091324   \n",
       "std         1.116190     155.907248      ...             0.288069   \n",
       "min         1.000000       1.000000      ...             0.000000   \n",
       "25%         1.000000     106.000000      ...             0.000000   \n",
       "50%         2.000000     152.000000      ...             0.000000   \n",
       "75%         3.000000     218.000000      ...             0.000000   \n",
       "max         4.000000     670.000000      ...             1.000000   \n",
       "\n",
       "             CM_PARA    CM_PERIVASC       CM_PSYCH    CM_PULMCIRC  \\\n",
       "count  494932.000000  494932.000000  494932.000000  494932.000000   \n",
       "mean        0.020639       0.046196       0.045889       0.018035   \n",
       "std         0.142173       0.209910       0.209245       0.133077   \n",
       "min         0.000000       0.000000       0.000000       0.000000   \n",
       "25%         0.000000       0.000000       0.000000       0.000000   \n",
       "50%         0.000000       0.000000       0.000000       0.000000   \n",
       "75%         0.000000       0.000000       0.000000       0.000000   \n",
       "max         1.000000       1.000000       1.000000       1.000000   \n",
       "\n",
       "         CM_RENLFAIL       CM_TUMOR       CM_ULCER       CM_VALVE  \\\n",
       "count  494932.000000  494932.000000  494932.000000  494932.000000   \n",
       "mean        0.088077       0.018441       0.000333       0.033861   \n",
       "std         0.283407       0.134540       0.018256       0.180872   \n",
       "min         0.000000       0.000000       0.000000       0.000000   \n",
       "25%         0.000000       0.000000       0.000000       0.000000   \n",
       "50%         0.000000       0.000000       0.000000       0.000000   \n",
       "75%         0.000000       0.000000       0.000000       0.000000   \n",
       "max         1.000000       1.000000       1.000000       1.000000   \n",
       "\n",
       "         CM_WGHTLOSS  \n",
       "count  494932.000000  \n",
       "mean        0.034684  \n",
       "std         0.182977  \n",
       "min         0.000000  \n",
       "25%         0.000000  \n",
       "50%         0.000000  \n",
       "75%         0.000000  \n",
       "max         1.000000  \n",
       "\n",
       "[8 rows x 111 columns]"
      ]
     },
     "execution_count": 4,
     "metadata": {},
     "output_type": "execute_result"
    }
   ],
   "source": [
    "train.describe()"
   ]
  },
  {
   "cell_type": "code",
   "execution_count": 5,
   "metadata": {
    "collapsed": false
   },
   "outputs": [
    {
     "data": {
      "text/html": [
       "<div>\n",
       "<style>\n",
       "    .dataframe thead tr:only-child th {\n",
       "        text-align: right;\n",
       "    }\n",
       "\n",
       "    .dataframe thead th {\n",
       "        text-align: left;\n",
       "    }\n",
       "\n",
       "    .dataframe tbody tr th {\n",
       "        vertical-align: top;\n",
       "    }\n",
       "</style>\n",
       "<table border=\"1\" class=\"dataframe\">\n",
       "  <thead>\n",
       "    <tr style=\"text-align: right;\">\n",
       "      <th></th>\n",
       "      <th>ASOURCE</th>\n",
       "      <th>ATYPE</th>\n",
       "      <th>RACE</th>\n",
       "      <th>TOTCHG</th>\n",
       "      <th>ZIPINC_QRTL</th>\n",
       "    </tr>\n",
       "  </thead>\n",
       "  <tbody>\n",
       "    <tr>\n",
       "      <th>0</th>\n",
       "      <td>2</td>\n",
       "      <td>2</td>\n",
       "      <td>1</td>\n",
       "      <td>272123</td>\n",
       "      <td>3</td>\n",
       "    </tr>\n",
       "    <tr>\n",
       "      <th>1</th>\n",
       "      <td>2</td>\n",
       "      <td>2</td>\n",
       "      <td>1</td>\n",
       "      <td>209246</td>\n",
       "      <td>1</td>\n",
       "    </tr>\n",
       "    <tr>\n",
       "      <th>2</th>\n",
       "      <td>2</td>\n",
       "      <td>2</td>\n",
       "      <td>1</td>\n",
       "      <td>305474</td>\n",
       "      <td>1</td>\n",
       "    </tr>\n",
       "    <tr>\n",
       "      <th>3</th>\n",
       "      <td>2</td>\n",
       "      <td>2</td>\n",
       "      <td>1</td>\n",
       "      <td>202973</td>\n",
       "      <td>1</td>\n",
       "    </tr>\n",
       "    <tr>\n",
       "      <th>4</th>\n",
       "      <td>2</td>\n",
       "      <td>2</td>\n",
       "      <td>1</td>\n",
       "      <td>416072</td>\n",
       "      <td>1</td>\n",
       "    </tr>\n",
       "  </tbody>\n",
       "</table>\n",
       "</div>"
      ],
      "text/plain": [
       "   ASOURCE  ATYPE  RACE  TOTCHG  ZIPINC_QRTL\n",
       "0        2      2     1  272123            3\n",
       "1        2      2     1  209246            1\n",
       "2        2      2     1  305474            1\n",
       "3        2      2     1  202973            1\n",
       "4        2      2     1  416072            1"
      ]
     },
     "execution_count": 5,
     "metadata": {},
     "output_type": "execute_result"
    }
   ],
   "source": [
    "target = pd.DataFrame(train, columns=['ASOURCE', 'ATYPE', 'RACE', 'TOTCHG', 'ZIPINC_QRTL'])\n",
    "target.head(5)\n",
    "#'ASOURCE', 'ATYPE', 'RACE', 'TOTCHG', 'ZIPINC_QRTL'"
   ]
  },
  {
   "cell_type": "markdown",
   "metadata": {},
   "source": [
    "## Check the distribution of labels"
   ]
  },
  {
   "cell_type": "code",
   "execution_count": 6,
   "metadata": {
    "collapsed": false
   },
   "outputs": [
    {
     "ename": "AttributeError",
     "evalue": "module 'seaborn' has no attribute 'plt'",
     "output_type": "error",
     "traceback": [
      "\u001b[0;31m---------------------------------------------------------------------------\u001b[0m",
      "\u001b[0;31mAttributeError\u001b[0m                            Traceback (most recent call last)",
      "\u001b[0;32m<ipython-input-6-c7814bac5193>\u001b[0m in \u001b[0;36m<module>\u001b[0;34m()\u001b[0m\n\u001b[1;32m      1\u001b[0m \u001b[0msns\u001b[0m\u001b[0;34m.\u001b[0m\u001b[0mdistplot\u001b[0m\u001b[0;34m(\u001b[0m\u001b[0mtrain\u001b[0m\u001b[0;34m[\u001b[0m\u001b[0;34m'RACE'\u001b[0m\u001b[0;34m]\u001b[0m\u001b[0;34m,\u001b[0m \u001b[0mkde\u001b[0m \u001b[0;34m=\u001b[0m \u001b[0;32mFalse\u001b[0m\u001b[0;34m,\u001b[0m \u001b[0mcolor\u001b[0m \u001b[0;34m=\u001b[0m \u001b[0;34m'b'\u001b[0m\u001b[0;34m,\u001b[0m \u001b[0mhist_kws\u001b[0m\u001b[0;34m=\u001b[0m\u001b[0;34m{\u001b[0m\u001b[0;34m'alpha'\u001b[0m\u001b[0;34m:\u001b[0m \u001b[0;36m0.9\u001b[0m\u001b[0;34m}\u001b[0m\u001b[0;34m)\u001b[0m\u001b[0;34m\u001b[0m\u001b[0m\n\u001b[0;32m----> 2\u001b[0;31m \u001b[0msns\u001b[0m\u001b[0;34m.\u001b[0m\u001b[0mplt\u001b[0m\u001b[0;34m.\u001b[0m\u001b[0mshow\u001b[0m\u001b[0;34m(\u001b[0m\u001b[0;34m)\u001b[0m\u001b[0;34m\u001b[0m\u001b[0m\n\u001b[0m",
      "\u001b[0;31mAttributeError\u001b[0m: module 'seaborn' has no attribute 'plt'"
     ]
    },
    {
     "data": {
      "image/png": "[encoded data removed]",
      "text/plain": [
       "<matplotlib.figure.Figure at 0x1152e21d0>"
      ]
     },
     "metadata": {},
     "output_type": "display_data"
    }
   ],
   "source": [
    "sns.distplot(train['RACE'], kde = False, color = 'b', hist_kws={'alpha': 0.9})\n",
    "sns.plt.show()\n"
   ]
  },
  {
   "cell_type": "markdown",
   "metadata": {},
   "source": [
    "## Categorical Features"
   ]
  },
  {
   "cell_type": "markdown",
   "metadata": {},
   "source": [
    "## Numerical Features"
   ]
  },
  {
   "cell_type": "code",
   "execution_count": 10,
   "metadata": {
    "collapsed": false
   },
   "outputs": [
    {
     "data": {
      "text/plain": [
       "<matplotlib.axes._subplots.AxesSubplot at 0x10421fe48>"
      ]
     },
     "execution_count": 10,
     "metadata": {},
     "output_type": "execute_result"
    },
    {
     "data": {
      "image/png": "[encoded data removed]",
      "text/plain": [
       "<matplotlib.figure.Figure at 0x104a44a58>"
      ]
     },
     "metadata": {},
     "output_type": "display_data"
    }
   ],
   "source": [
    "corr = train.select_dtypes(include = ['float64', 'int64']).iloc[:, 1:].corr()\n",
    "plt.figure(figsize=(12, 12))\n",
    "sns.heatmap(corr, vmax=1, square=True)"
   ]
  },
  {
   "cell_type": "code",
   "execution_count": 12,
   "metadata": {
    "collapsed": false
   },
   "outputs": [
    {
     "data": {
      "text/plain": [
       "110"
      ]
     },
     "execution_count": 12,
     "metadata": {},
     "output_type": "execute_result"
    }
   ],
   "source": [
    "len(corr.columns)"
   ]
  },
  {
   "cell_type": "code",
   "execution_count": 14,
   "metadata": {
    "collapsed": false
   },
   "outputs": [
    {
     "data": {
      "text/html": [
       "<div>\n",
       "<style>\n",
       "    .dataframe thead tr:only-child th {\n",
       "        text-align: right;\n",
       "    }\n",
       "\n",
       "    .dataframe thead th {\n",
       "        text-align: left;\n",
       "    }\n",
       "\n",
       "    .dataframe tbody tr th {\n",
       "        vertical-align: top;\n",
       "    }\n",
       "</style>\n",
       "<table border=\"1\" class=\"dataframe\">\n",
       "  <thead>\n",
       "    <tr style=\"text-align: right;\">\n",
       "      <th></th>\n",
       "      <th>ASOURCE</th>\n",
       "      <th>ATYPE</th>\n",
       "      <th>RACE</th>\n",
       "      <th>TOTCHG</th>\n",
       "      <th>ZIPINC_QRTL</th>\n",
       "    </tr>\n",
       "  </thead>\n",
       "  <tbody>\n",
       "    <tr>\n",
       "      <th>count</th>\n",
       "      <td>494932.000000</td>\n",
       "      <td>494932.000000</td>\n",
       "      <td>494932.000000</td>\n",
       "      <td>4.949320e+05</td>\n",
       "      <td>494932.000000</td>\n",
       "    </tr>\n",
       "    <tr>\n",
       "      <th>mean</th>\n",
       "      <td>3.824030</td>\n",
       "      <td>1.826384</td>\n",
       "      <td>1.588849</td>\n",
       "      <td>2.263266e+04</td>\n",
       "      <td>2.635423</td>\n",
       "    </tr>\n",
       "    <tr>\n",
       "      <th>std</th>\n",
       "      <td>1.760121</td>\n",
       "      <td>1.003085</td>\n",
       "      <td>1.139315</td>\n",
       "      <td>3.813394e+04</td>\n",
       "      <td>1.191758</td>\n",
       "    </tr>\n",
       "    <tr>\n",
       "      <th>min</th>\n",
       "      <td>1.000000</td>\n",
       "      <td>1.000000</td>\n",
       "      <td>1.000000</td>\n",
       "      <td>1.000000e+02</td>\n",
       "      <td>1.000000</td>\n",
       "    </tr>\n",
       "    <tr>\n",
       "      <th>25%</th>\n",
       "      <td>1.000000</td>\n",
       "      <td>1.000000</td>\n",
       "      <td>1.000000</td>\n",
       "      <td>6.067000e+03</td>\n",
       "      <td>1.000000</td>\n",
       "    </tr>\n",
       "    <tr>\n",
       "      <th>50%</th>\n",
       "      <td>5.000000</td>\n",
       "      <td>1.000000</td>\n",
       "      <td>1.000000</td>\n",
       "      <td>1.198200e+04</td>\n",
       "      <td>3.000000</td>\n",
       "    </tr>\n",
       "    <tr>\n",
       "      <th>75%</th>\n",
       "      <td>5.000000</td>\n",
       "      <td>3.000000</td>\n",
       "      <td>2.000000</td>\n",
       "      <td>2.511700e+04</td>\n",
       "      <td>4.000000</td>\n",
       "    </tr>\n",
       "    <tr>\n",
       "      <th>max</th>\n",
       "      <td>5.000000</td>\n",
       "      <td>6.000000</td>\n",
       "      <td>6.000000</td>\n",
       "      <td>1.461234e+06</td>\n",
       "      <td>4.000000</td>\n",
       "    </tr>\n",
       "  </tbody>\n",
       "</table>\n",
       "</div>"
      ],
      "text/plain": [
       "             ASOURCE          ATYPE           RACE        TOTCHG  \\\n",
       "count  494932.000000  494932.000000  494932.000000  4.949320e+05   \n",
       "mean        3.824030       1.826384       1.588849  2.263266e+04   \n",
       "std         1.760121       1.003085       1.139315  3.813394e+04   \n",
       "min         1.000000       1.000000       1.000000  1.000000e+02   \n",
       "25%         1.000000       1.000000       1.000000  6.067000e+03   \n",
       "50%         5.000000       1.000000       1.000000  1.198200e+04   \n",
       "75%         5.000000       3.000000       2.000000  2.511700e+04   \n",
       "max         5.000000       6.000000       6.000000  1.461234e+06   \n",
       "\n",
       "         ZIPINC_QRTL  \n",
       "count  494932.000000  \n",
       "mean        2.635423  \n",
       "std         1.191758  \n",
       "min         1.000000  \n",
       "25%         1.000000  \n",
       "50%         3.000000  \n",
       "75%         4.000000  \n",
       "max         4.000000  "
      ]
     },
     "execution_count": 14,
     "metadata": {},
     "output_type": "execute_result"
    }
   ],
   "source": [
    "target.describe()"
   ]
  },
  {
   "cell_type": "code",
   "execution_count": 8,
   "metadata": {
    "collapsed": false
   },
   "outputs": [
    {
     "data": {
      "text/plain": [
       "<matplotlib.axes._subplots.AxesSubplot at 0x117ed9d68>"
      ]
     },
     "execution_count": 8,
     "metadata": {},
     "output_type": "execute_result"
    }
   ],
   "source": [
    "target.ASOURCE.plot()"
   ]
  },
  {
   "cell_type": "code",
   "execution_count": 8,
   "metadata": {
    "collapsed": false
   },
   "outputs": [
    {
     "data": {
      "text/plain": [
       "(array([ 338808.,       0.,   87641.,       0.,   41343.,       0.,\n",
       "           6912.,       0.,     763.,   19465.]),\n",
       " array([ 1. ,  1.5,  2. ,  2.5,  3. ,  3.5,  4. ,  4.5,  5. ,  5.5,  6. ]),\n",
       " <a list of 10 Patch objects>)"
      ]
     },
     "execution_count": 8,
     "metadata": {},
     "output_type": "execute_result"
    },
    {
     "data": {
      "image/png": "[encoded data removed]",
      "text/plain": [
       "<matplotlib.figure.Figure at 0x115ece278>"
      ]
     },
     "metadata": {},
     "output_type": "display_data"
    }
   ],
   "source": [
    "plt.hist(train.RACE)"
   ]
  },
  {
   "cell_type": "markdown",
   "metadata": {},
   "source": [
    "## Missing Value Imputation"
   ]
  },
  {
   "cell_type": "code",
   "execution_count": 201,
   "metadata": {
    "collapsed": false
   },
   "outputs": [],
   "source": [
    "dxccs = list(na.index[na.index.str.contains('DXCCS')])"
   ]
  },
  {
   "cell_type": "code",
   "execution_count": 204,
   "metadata": {
    "collapsed": false
   },
   "outputs": [],
   "source": [
    "prday = list(na.index[na.index.str.contains('PRDAY')])"
   ]
  },
  {
   "cell_type": "code",
   "execution_count": 205,
   "metadata": {
    "collapsed": false
   },
   "outputs": [],
   "source": [
    "prccs = list(na.index[na.index.str.contains('PRCCS')])"
   ]
  },
  {
   "cell_type": "code",
   "execution_count": 230,
   "metadata": {
    "collapsed": false
   },
   "outputs": [
    {
     "data": {
      "text/plain": [
       "(494932, 55)"
      ]
     },
     "execution_count": 230,
     "metadata": {},
     "output_type": "execute_result"
    }
   ],
   "source": [
    "t = train[dxccs+prccs+prday].fillna(0)\n",
    "t.shape"
   ]
  },
  {
   "cell_type": "code",
   "execution_count": 231,
   "metadata": {
    "collapsed": true
   },
   "outputs": [],
   "source": [
    "train = train.drop(dxccs+prccs+prday, 1)"
   ]
  },
  {
   "cell_type": "code",
   "execution_count": 233,
   "metadata": {
    "collapsed": false
   },
   "outputs": [],
   "source": [
    "train = pd.concat([train,t],1)"
   ]
  },
  {
   "cell_type": "code",
   "execution_count": 235,
   "metadata": {
    "collapsed": true
   },
   "outputs": [],
   "source": [
    "train = train.dropna()"
   ]
  },
  {
   "cell_type": "code",
   "execution_count": 236,
   "metadata": {
    "collapsed": false
   },
   "outputs": [
    {
     "data": {
      "text/plain": [
       "(493420, 111)"
      ]
     },
     "execution_count": 236,
     "metadata": {},
     "output_type": "execute_result"
    }
   ],
   "source": [
    "train.shape"
   ]
  },
  {
   "cell_type": "code",
   "execution_count": 238,
   "metadata": {
    "collapsed": false
   },
   "outputs": [
    {
     "data": {
      "text/html": [
       "<div>\n",
       "<style>\n",
       "    .dataframe thead tr:only-child th {\n",
       "        text-align: right;\n",
       "    }\n",
       "\n",
       "    .dataframe thead th {\n",
       "        text-align: left;\n",
       "    }\n",
       "\n",
       "    .dataframe tbody tr th {\n",
       "        vertical-align: top;\n",
       "    }\n",
       "</style>\n",
       "<table border=\"1\" class=\"dataframe\">\n",
       "  <thead>\n",
       "    <tr style=\"text-align: right;\">\n",
       "      <th></th>\n",
       "      <th>AGE</th>\n",
       "      <th>AMONTH</th>\n",
       "      <th>ASOURCE</th>\n",
       "      <th>ATYPE</th>\n",
       "      <th>AWEEKEND</th>\n",
       "      <th>DIED</th>\n",
       "      <th>DISCWT</th>\n",
       "      <th>DISPUNIFORM</th>\n",
       "      <th>DQTR</th>\n",
       "      <th>FEMALE</th>\n",
       "      <th>...</th>\n",
       "      <th>PRDAY10</th>\n",
       "      <th>PRDAY9</th>\n",
       "      <th>PRDAY8</th>\n",
       "      <th>PRDAY7</th>\n",
       "      <th>PRDAY6</th>\n",
       "      <th>PRDAY5</th>\n",
       "      <th>PRDAY4</th>\n",
       "      <th>PRDAY3</th>\n",
       "      <th>PRDAY2</th>\n",
       "      <th>PRDAY1</th>\n",
       "    </tr>\n",
       "  </thead>\n",
       "  <tbody>\n",
       "    <tr>\n",
       "      <th>0</th>\n",
       "      <td>48.0</td>\n",
       "      <td>11.0</td>\n",
       "      <td>2</td>\n",
       "      <td>2</td>\n",
       "      <td>0.0</td>\n",
       "      <td>0.0</td>\n",
       "      <td>4.671227</td>\n",
       "      <td>1.0</td>\n",
       "      <td>1</td>\n",
       "      <td>0.0</td>\n",
       "      <td>...</td>\n",
       "      <td>0.0</td>\n",
       "      <td>0.0</td>\n",
       "      <td>0.0</td>\n",
       "      <td>38.0</td>\n",
       "      <td>29.0</td>\n",
       "      <td>1.0</td>\n",
       "      <td>37.0</td>\n",
       "      <td>37.0</td>\n",
       "      <td>37.0</td>\n",
       "      <td>37.0</td>\n",
       "    </tr>\n",
       "    <tr>\n",
       "      <th>1</th>\n",
       "      <td>66.0</td>\n",
       "      <td>11.0</td>\n",
       "      <td>2</td>\n",
       "      <td>2</td>\n",
       "      <td>0.0</td>\n",
       "      <td>0.0</td>\n",
       "      <td>4.671227</td>\n",
       "      <td>6.0</td>\n",
       "      <td>1</td>\n",
       "      <td>0.0</td>\n",
       "      <td>...</td>\n",
       "      <td>0.0</td>\n",
       "      <td>0.0</td>\n",
       "      <td>7.0</td>\n",
       "      <td>7.0</td>\n",
       "      <td>3.0</td>\n",
       "      <td>3.0</td>\n",
       "      <td>2.0</td>\n",
       "      <td>0.0</td>\n",
       "      <td>4.0</td>\n",
       "      <td>4.0</td>\n",
       "    </tr>\n",
       "  </tbody>\n",
       "</table>\n",
       "<p>2 rows × 111 columns</p>\n",
       "</div>"
      ],
      "text/plain": [
       "    AGE  AMONTH  ASOURCE  ATYPE  AWEEKEND  DIED    DISCWT  DISPUNIFORM  DQTR  \\\n",
       "0  48.0    11.0        2      2       0.0   0.0  4.671227          1.0     1   \n",
       "1  66.0    11.0        2      2       0.0   0.0  4.671227          6.0     1   \n",
       "\n",
       "   FEMALE   ...    PRDAY10  PRDAY9  PRDAY8  PRDAY7  PRDAY6  PRDAY5  PRDAY4  \\\n",
       "0     0.0   ...        0.0     0.0     0.0    38.0    29.0     1.0    37.0   \n",
       "1     0.0   ...        0.0     0.0     7.0     7.0     3.0     3.0     2.0   \n",
       "\n",
       "   PRDAY3  PRDAY2  PRDAY1  \n",
       "0    37.0    37.0    37.0  \n",
       "1     0.0     4.0     4.0  \n",
       "\n",
       "[2 rows x 111 columns]"
      ]
     },
     "execution_count": 238,
     "metadata": {},
     "output_type": "execute_result"
    }
   ],
   "source": [
    "train.head(2)"
   ]
  },
  {
   "cell_type": "code",
   "execution_count": 239,
   "metadata": {
    "collapsed": true
   },
   "outputs": [],
   "source": [
    "train.to_csv('/Volumes/Transcend/gwu_course/ml1/project/data_cleaned.csv', index=False)"
   ]
  },
  {
   "cell_type": "code",
   "execution_count": 7,
   "metadata": {
    "collapsed": false,
    "scrolled": true
   },
   "outputs": [
    {
     "data": {
      "text/html": [
       "<div>\n",
       "<style>\n",
       "    .dataframe thead tr:only-child th {\n",
       "        text-align: right;\n",
       "    }\n",
       "\n",
       "    .dataframe thead th {\n",
       "        text-align: left;\n",
       "    }\n",
       "\n",
       "    .dataframe tbody tr th {\n",
       "        vertical-align: top;\n",
       "    }\n",
       "</style>\n",
       "<table border=\"1\" class=\"dataframe\">\n",
       "  <thead>\n",
       "    <tr style=\"text-align: right;\">\n",
       "      <th></th>\n",
       "      <th>na</th>\n",
       "      <th>na_p</th>\n",
       "    </tr>\n",
       "  </thead>\n",
       "  <tbody>\n",
       "    <tr>\n",
       "      <th>AGE</th>\n",
       "      <td>34</td>\n",
       "      <td>0.000069</td>\n",
       "    </tr>\n",
       "    <tr>\n",
       "      <th>AMONTH</th>\n",
       "      <td>2</td>\n",
       "      <td>0.000004</td>\n",
       "    </tr>\n",
       "    <tr>\n",
       "      <th>ASOURCE</th>\n",
       "      <td>0</td>\n",
       "      <td>0.000000</td>\n",
       "    </tr>\n",
       "    <tr>\n",
       "      <th>ATYPE</th>\n",
       "      <td>0</td>\n",
       "      <td>0.000000</td>\n",
       "    </tr>\n",
       "    <tr>\n",
       "      <th>AWEEKEND</th>\n",
       "      <td>2</td>\n",
       "      <td>0.000004</td>\n",
       "    </tr>\n",
       "    <tr>\n",
       "      <th>DIED</th>\n",
       "      <td>536</td>\n",
       "      <td>0.001083</td>\n",
       "    </tr>\n",
       "    <tr>\n",
       "      <th>DISCWT</th>\n",
       "      <td>0</td>\n",
       "      <td>0.000000</td>\n",
       "    </tr>\n",
       "    <tr>\n",
       "      <th>DISPUNIFORM</th>\n",
       "      <td>536</td>\n",
       "      <td>0.001083</td>\n",
       "    </tr>\n",
       "    <tr>\n",
       "      <th>DQTR</th>\n",
       "      <td>0</td>\n",
       "      <td>0.000000</td>\n",
       "    </tr>\n",
       "    <tr>\n",
       "      <th>DXCCS1</th>\n",
       "      <td>318</td>\n",
       "      <td>0.000643</td>\n",
       "    </tr>\n",
       "    <tr>\n",
       "      <th>DXCCS2</th>\n",
       "      <td>18051</td>\n",
       "      <td>0.036472</td>\n",
       "    </tr>\n",
       "    <tr>\n",
       "      <th>DXCCS3</th>\n",
       "      <td>51085</td>\n",
       "      <td>0.103216</td>\n",
       "    </tr>\n",
       "    <tr>\n",
       "      <th>DXCCS4</th>\n",
       "      <td>86881</td>\n",
       "      <td>0.175541</td>\n",
       "    </tr>\n",
       "    <tr>\n",
       "      <th>DXCCS5</th>\n",
       "      <td>124870</td>\n",
       "      <td>0.252297</td>\n",
       "    </tr>\n",
       "    <tr>\n",
       "      <th>DXCCS6</th>\n",
       "      <td>162554</td>\n",
       "      <td>0.328437</td>\n",
       "    </tr>\n",
       "    <tr>\n",
       "      <th>DXCCS7</th>\n",
       "      <td>199561</td>\n",
       "      <td>0.403209</td>\n",
       "    </tr>\n",
       "    <tr>\n",
       "      <th>DXCCS8</th>\n",
       "      <td>237881</td>\n",
       "      <td>0.480634</td>\n",
       "    </tr>\n",
       "    <tr>\n",
       "      <th>DXCCS9</th>\n",
       "      <td>278672</td>\n",
       "      <td>0.563051</td>\n",
       "    </tr>\n",
       "    <tr>\n",
       "      <th>DXCCS10</th>\n",
       "      <td>311821</td>\n",
       "      <td>0.630028</td>\n",
       "    </tr>\n",
       "    <tr>\n",
       "      <th>DXCCS11</th>\n",
       "      <td>337145</td>\n",
       "      <td>0.681195</td>\n",
       "    </tr>\n",
       "    <tr>\n",
       "      <th>DXCCS12</th>\n",
       "      <td>362048</td>\n",
       "      <td>0.731511</td>\n",
       "    </tr>\n",
       "    <tr>\n",
       "      <th>DXCCS13</th>\n",
       "      <td>381843</td>\n",
       "      <td>0.771506</td>\n",
       "    </tr>\n",
       "    <tr>\n",
       "      <th>DXCCS14</th>\n",
       "      <td>399929</td>\n",
       "      <td>0.808048</td>\n",
       "    </tr>\n",
       "    <tr>\n",
       "      <th>DXCCS15</th>\n",
       "      <td>416697</td>\n",
       "      <td>0.841928</td>\n",
       "    </tr>\n",
       "    <tr>\n",
       "      <th>DXCCS16</th>\n",
       "      <td>452274</td>\n",
       "      <td>0.913810</td>\n",
       "    </tr>\n",
       "    <tr>\n",
       "      <th>DXCCS17</th>\n",
       "      <td>458653</td>\n",
       "      <td>0.926699</td>\n",
       "    </tr>\n",
       "    <tr>\n",
       "      <th>DXCCS18</th>\n",
       "      <td>464570</td>\n",
       "      <td>0.938654</td>\n",
       "    </tr>\n",
       "    <tr>\n",
       "      <th>DXCCS19</th>\n",
       "      <td>473045</td>\n",
       "      <td>0.955778</td>\n",
       "    </tr>\n",
       "    <tr>\n",
       "      <th>DXCCS20</th>\n",
       "      <td>476459</td>\n",
       "      <td>0.962676</td>\n",
       "    </tr>\n",
       "    <tr>\n",
       "      <th>DXCCS21</th>\n",
       "      <td>479598</td>\n",
       "      <td>0.969018</td>\n",
       "    </tr>\n",
       "    <tr>\n",
       "      <th>...</th>\n",
       "      <td>...</td>\n",
       "      <td>...</td>\n",
       "    </tr>\n",
       "    <tr>\n",
       "      <th>TOTAL_DISC</th>\n",
       "      <td>0</td>\n",
       "      <td>0.000000</td>\n",
       "    </tr>\n",
       "    <tr>\n",
       "      <th>CM_AIDS</th>\n",
       "      <td>0</td>\n",
       "      <td>0.000000</td>\n",
       "    </tr>\n",
       "    <tr>\n",
       "      <th>CM_ALCOHOL</th>\n",
       "      <td>0</td>\n",
       "      <td>0.000000</td>\n",
       "    </tr>\n",
       "    <tr>\n",
       "      <th>CM_ANEMDEF</th>\n",
       "      <td>0</td>\n",
       "      <td>0.000000</td>\n",
       "    </tr>\n",
       "    <tr>\n",
       "      <th>CM_ARTH</th>\n",
       "      <td>0</td>\n",
       "      <td>0.000000</td>\n",
       "    </tr>\n",
       "    <tr>\n",
       "      <th>CM_BLDLOSS</th>\n",
       "      <td>0</td>\n",
       "      <td>0.000000</td>\n",
       "    </tr>\n",
       "    <tr>\n",
       "      <th>CM_CHF</th>\n",
       "      <td>0</td>\n",
       "      <td>0.000000</td>\n",
       "    </tr>\n",
       "    <tr>\n",
       "      <th>CM_CHRNLUNG</th>\n",
       "      <td>0</td>\n",
       "      <td>0.000000</td>\n",
       "    </tr>\n",
       "    <tr>\n",
       "      <th>CM_COAG</th>\n",
       "      <td>0</td>\n",
       "      <td>0.000000</td>\n",
       "    </tr>\n",
       "    <tr>\n",
       "      <th>CM_DEPRESS</th>\n",
       "      <td>0</td>\n",
       "      <td>0.000000</td>\n",
       "    </tr>\n",
       "    <tr>\n",
       "      <th>CM_DM</th>\n",
       "      <td>0</td>\n",
       "      <td>0.000000</td>\n",
       "    </tr>\n",
       "    <tr>\n",
       "      <th>CM_DMCX</th>\n",
       "      <td>0</td>\n",
       "      <td>0.000000</td>\n",
       "    </tr>\n",
       "    <tr>\n",
       "      <th>CM_DRUG</th>\n",
       "      <td>0</td>\n",
       "      <td>0.000000</td>\n",
       "    </tr>\n",
       "    <tr>\n",
       "      <th>CM_HTN_C</th>\n",
       "      <td>0</td>\n",
       "      <td>0.000000</td>\n",
       "    </tr>\n",
       "    <tr>\n",
       "      <th>CM_HYPOTHY</th>\n",
       "      <td>0</td>\n",
       "      <td>0.000000</td>\n",
       "    </tr>\n",
       "    <tr>\n",
       "      <th>CM_LIVER</th>\n",
       "      <td>0</td>\n",
       "      <td>0.000000</td>\n",
       "    </tr>\n",
       "    <tr>\n",
       "      <th>CM_LYMPH</th>\n",
       "      <td>0</td>\n",
       "      <td>0.000000</td>\n",
       "    </tr>\n",
       "    <tr>\n",
       "      <th>CM_LYTES</th>\n",
       "      <td>0</td>\n",
       "      <td>0.000000</td>\n",
       "    </tr>\n",
       "    <tr>\n",
       "      <th>CM_METS</th>\n",
       "      <td>0</td>\n",
       "      <td>0.000000</td>\n",
       "    </tr>\n",
       "    <tr>\n",
       "      <th>CM_NEURO</th>\n",
       "      <td>0</td>\n",
       "      <td>0.000000</td>\n",
       "    </tr>\n",
       "    <tr>\n",
       "      <th>CM_OBESE</th>\n",
       "      <td>0</td>\n",
       "      <td>0.000000</td>\n",
       "    </tr>\n",
       "    <tr>\n",
       "      <th>CM_PARA</th>\n",
       "      <td>0</td>\n",
       "      <td>0.000000</td>\n",
       "    </tr>\n",
       "    <tr>\n",
       "      <th>CM_PERIVASC</th>\n",
       "      <td>0</td>\n",
       "      <td>0.000000</td>\n",
       "    </tr>\n",
       "    <tr>\n",
       "      <th>CM_PSYCH</th>\n",
       "      <td>0</td>\n",
       "      <td>0.000000</td>\n",
       "    </tr>\n",
       "    <tr>\n",
       "      <th>CM_PULMCIRC</th>\n",
       "      <td>0</td>\n",
       "      <td>0.000000</td>\n",
       "    </tr>\n",
       "    <tr>\n",
       "      <th>CM_RENLFAIL</th>\n",
       "      <td>0</td>\n",
       "      <td>0.000000</td>\n",
       "    </tr>\n",
       "    <tr>\n",
       "      <th>CM_TUMOR</th>\n",
       "      <td>0</td>\n",
       "      <td>0.000000</td>\n",
       "    </tr>\n",
       "    <tr>\n",
       "      <th>CM_ULCER</th>\n",
       "      <td>0</td>\n",
       "      <td>0.000000</td>\n",
       "    </tr>\n",
       "    <tr>\n",
       "      <th>CM_VALVE</th>\n",
       "      <td>0</td>\n",
       "      <td>0.000000</td>\n",
       "    </tr>\n",
       "    <tr>\n",
       "      <th>CM_WGHTLOSS</th>\n",
       "      <td>0</td>\n",
       "      <td>0.000000</td>\n",
       "    </tr>\n",
       "  </tbody>\n",
       "</table>\n",
       "<p>111 rows × 2 columns</p>\n",
       "</div>"
      ],
      "text/plain": [
       "                 na      na_p\n",
       "AGE              34  0.000069\n",
       "AMONTH            2  0.000004\n",
       "ASOURCE           0  0.000000\n",
       "ATYPE             0  0.000000\n",
       "AWEEKEND          2  0.000004\n",
       "DIED            536  0.001083\n",
       "DISCWT            0  0.000000\n",
       "DISPUNIFORM     536  0.001083\n",
       "DQTR              0  0.000000\n",
       "DXCCS1          318  0.000643\n",
       "DXCCS2        18051  0.036472\n",
       "DXCCS3        51085  0.103216\n",
       "DXCCS4        86881  0.175541\n",
       "DXCCS5       124870  0.252297\n",
       "DXCCS6       162554  0.328437\n",
       "DXCCS7       199561  0.403209\n",
       "DXCCS8       237881  0.480634\n",
       "DXCCS9       278672  0.563051\n",
       "DXCCS10      311821  0.630028\n",
       "DXCCS11      337145  0.681195\n",
       "DXCCS12      362048  0.731511\n",
       "DXCCS13      381843  0.771506\n",
       "DXCCS14      399929  0.808048\n",
       "DXCCS15      416697  0.841928\n",
       "DXCCS16      452274  0.913810\n",
       "DXCCS17      458653  0.926699\n",
       "DXCCS18      464570  0.938654\n",
       "DXCCS19      473045  0.955778\n",
       "DXCCS20      476459  0.962676\n",
       "DXCCS21      479598  0.969018\n",
       "...             ...       ...\n",
       "TOTAL_DISC        0  0.000000\n",
       "CM_AIDS           0  0.000000\n",
       "CM_ALCOHOL        0  0.000000\n",
       "CM_ANEMDEF        0  0.000000\n",
       "CM_ARTH           0  0.000000\n",
       "CM_BLDLOSS        0  0.000000\n",
       "CM_CHF            0  0.000000\n",
       "CM_CHRNLUNG       0  0.000000\n",
       "CM_COAG           0  0.000000\n",
       "CM_DEPRESS        0  0.000000\n",
       "CM_DM             0  0.000000\n",
       "CM_DMCX           0  0.000000\n",
       "CM_DRUG           0  0.000000\n",
       "CM_HTN_C          0  0.000000\n",
       "CM_HYPOTHY        0  0.000000\n",
       "CM_LIVER          0  0.000000\n",
       "CM_LYMPH          0  0.000000\n",
       "CM_LYTES          0  0.000000\n",
       "CM_METS           0  0.000000\n",
       "CM_NEURO          0  0.000000\n",
       "CM_OBESE          0  0.000000\n",
       "CM_PARA           0  0.000000\n",
       "CM_PERIVASC       0  0.000000\n",
       "CM_PSYCH          0  0.000000\n",
       "CM_PULMCIRC       0  0.000000\n",
       "CM_RENLFAIL       0  0.000000\n",
       "CM_TUMOR          0  0.000000\n",
       "CM_ULCER          0  0.000000\n",
       "CM_VALVE          0  0.000000\n",
       "CM_WGHTLOSS       0  0.000000\n",
       "\n",
       "[111 rows x 2 columns]"
      ]
     },
     "execution_count": 7,
     "metadata": {},
     "output_type": "execute_result"
    }
   ],
   "source": [
    "na = pd.DataFrame(train.isnull().sum())  #checking for total null values\n",
    "na.columns = ['na']\n",
    "na['na_p'] = na.na/train.shape[0]\n",
    "na"
   ]
  },
  {
   "cell_type": "code",
   "execution_count": 120,
   "metadata": {
    "collapsed": false,
    "scrolled": true
   },
   "outputs": [
    {
     "data": {
      "text/html": [
       "<div>\n",
       "<style>\n",
       "    .dataframe thead tr:only-child th {\n",
       "        text-align: right;\n",
       "    }\n",
       "\n",
       "    .dataframe thead th {\n",
       "        text-align: left;\n",
       "    }\n",
       "\n",
       "    .dataframe tbody tr th {\n",
       "        vertical-align: top;\n",
       "    }\n",
       "</style>\n",
       "<table border=\"1\" class=\"dataframe\">\n",
       "  <thead>\n",
       "    <tr style=\"text-align: right;\">\n",
       "      <th></th>\n",
       "      <th>na</th>\n",
       "      <th>na_p</th>\n",
       "    </tr>\n",
       "  </thead>\n",
       "  <tbody>\n",
       "    <tr>\n",
       "      <th>PRDAY15</th>\n",
       "      <td>493959</td>\n",
       "      <td>0.998034</td>\n",
       "    </tr>\n",
       "    <tr>\n",
       "      <th>PRCCS15</th>\n",
       "      <td>493780</td>\n",
       "      <td>0.997672</td>\n",
       "    </tr>\n",
       "    <tr>\n",
       "      <th>PRDAY14</th>\n",
       "      <td>493614</td>\n",
       "      <td>0.997337</td>\n",
       "    </tr>\n",
       "    <tr>\n",
       "      <th>PRCCS14</th>\n",
       "      <td>493363</td>\n",
       "      <td>0.996830</td>\n",
       "    </tr>\n",
       "    <tr>\n",
       "      <th>PRDAY13</th>\n",
       "      <td>493213</td>\n",
       "      <td>0.996527</td>\n",
       "    </tr>\n",
       "    <tr>\n",
       "      <th>PRCCS13</th>\n",
       "      <td>492850</td>\n",
       "      <td>0.995793</td>\n",
       "    </tr>\n",
       "    <tr>\n",
       "      <th>PRDAY12</th>\n",
       "      <td>492670</td>\n",
       "      <td>0.995430</td>\n",
       "    </tr>\n",
       "    <tr>\n",
       "      <th>PRCCS12</th>\n",
       "      <td>492177</td>\n",
       "      <td>0.994434</td>\n",
       "    </tr>\n",
       "    <tr>\n",
       "      <th>PRDAY11</th>\n",
       "      <td>491303</td>\n",
       "      <td>0.992668</td>\n",
       "    </tr>\n",
       "    <tr>\n",
       "      <th>PRCCS11</th>\n",
       "      <td>491072</td>\n",
       "      <td>0.992201</td>\n",
       "    </tr>\n",
       "    <tr>\n",
       "      <th>PRDAY10</th>\n",
       "      <td>489878</td>\n",
       "      <td>0.989788</td>\n",
       "    </tr>\n",
       "    <tr>\n",
       "      <th>PRCCS10</th>\n",
       "      <td>489548</td>\n",
       "      <td>0.989122</td>\n",
       "    </tr>\n",
       "    <tr>\n",
       "      <th>PRDAY9</th>\n",
       "      <td>487770</td>\n",
       "      <td>0.985529</td>\n",
       "    </tr>\n",
       "    <tr>\n",
       "      <th>DXCCS25</th>\n",
       "      <td>487765</td>\n",
       "      <td>0.985519</td>\n",
       "    </tr>\n",
       "    <tr>\n",
       "      <th>PRCCS9</th>\n",
       "      <td>487261</td>\n",
       "      <td>0.984501</td>\n",
       "    </tr>\n",
       "    <tr>\n",
       "      <th>DXCCS24</th>\n",
       "      <td>486088</td>\n",
       "      <td>0.982131</td>\n",
       "    </tr>\n",
       "    <tr>\n",
       "      <th>DXCCS23</th>\n",
       "      <td>484235</td>\n",
       "      <td>0.978387</td>\n",
       "    </tr>\n",
       "    <tr>\n",
       "      <th>PRDAY8</th>\n",
       "      <td>484064</td>\n",
       "      <td>0.978041</td>\n",
       "    </tr>\n",
       "    <tr>\n",
       "      <th>PRCCS8</th>\n",
       "      <td>483075</td>\n",
       "      <td>0.976043</td>\n",
       "    </tr>\n",
       "    <tr>\n",
       "      <th>DXCCS22</th>\n",
       "      <td>482079</td>\n",
       "      <td>0.974031</td>\n",
       "    </tr>\n",
       "    <tr>\n",
       "      <th>DXCCS21</th>\n",
       "      <td>479598</td>\n",
       "      <td>0.969018</td>\n",
       "    </tr>\n",
       "    <tr>\n",
       "      <th>PRDAY7</th>\n",
       "      <td>478445</td>\n",
       "      <td>0.966688</td>\n",
       "    </tr>\n",
       "    <tr>\n",
       "      <th>PRCCS7</th>\n",
       "      <td>476734</td>\n",
       "      <td>0.963231</td>\n",
       "    </tr>\n",
       "    <tr>\n",
       "      <th>DXCCS20</th>\n",
       "      <td>476459</td>\n",
       "      <td>0.962676</td>\n",
       "    </tr>\n",
       "    <tr>\n",
       "      <th>DXCCS19</th>\n",
       "      <td>473045</td>\n",
       "      <td>0.955778</td>\n",
       "    </tr>\n",
       "    <tr>\n",
       "      <th>PRDAY6</th>\n",
       "      <td>466802</td>\n",
       "      <td>0.943164</td>\n",
       "    </tr>\n",
       "    <tr>\n",
       "      <th>PRCCS6</th>\n",
       "      <td>466793</td>\n",
       "      <td>0.943146</td>\n",
       "    </tr>\n",
       "    <tr>\n",
       "      <th>DXCCS18</th>\n",
       "      <td>464570</td>\n",
       "      <td>0.938654</td>\n",
       "    </tr>\n",
       "    <tr>\n",
       "      <th>DXCCS17</th>\n",
       "      <td>458653</td>\n",
       "      <td>0.926699</td>\n",
       "    </tr>\n",
       "    <tr>\n",
       "      <th>PRDAY5</th>\n",
       "      <td>453270</td>\n",
       "      <td>0.915823</td>\n",
       "    </tr>\n",
       "    <tr>\n",
       "      <th>...</th>\n",
       "      <td>...</td>\n",
       "      <td>...</td>\n",
       "    </tr>\n",
       "    <tr>\n",
       "      <th>CM_ANEMDEF</th>\n",
       "      <td>0</td>\n",
       "      <td>0.000000</td>\n",
       "    </tr>\n",
       "    <tr>\n",
       "      <th>CM_ALCOHOL</th>\n",
       "      <td>0</td>\n",
       "      <td>0.000000</td>\n",
       "    </tr>\n",
       "    <tr>\n",
       "      <th>CM_AIDS</th>\n",
       "      <td>0</td>\n",
       "      <td>0.000000</td>\n",
       "    </tr>\n",
       "    <tr>\n",
       "      <th>ATYPE</th>\n",
       "      <td>0</td>\n",
       "      <td>0.000000</td>\n",
       "    </tr>\n",
       "    <tr>\n",
       "      <th>ASOURCE</th>\n",
       "      <td>0</td>\n",
       "      <td>0.000000</td>\n",
       "    </tr>\n",
       "    <tr>\n",
       "      <th>CM_CHF</th>\n",
       "      <td>0</td>\n",
       "      <td>0.000000</td>\n",
       "    </tr>\n",
       "    <tr>\n",
       "      <th>CM_OBESE</th>\n",
       "      <td>0</td>\n",
       "      <td>0.000000</td>\n",
       "    </tr>\n",
       "    <tr>\n",
       "      <th>CM_NEURO</th>\n",
       "      <td>0</td>\n",
       "      <td>0.000000</td>\n",
       "    </tr>\n",
       "    <tr>\n",
       "      <th>RACE</th>\n",
       "      <td>0</td>\n",
       "      <td>0.000000</td>\n",
       "    </tr>\n",
       "    <tr>\n",
       "      <th>HOSPID</th>\n",
       "      <td>0</td>\n",
       "      <td>0.000000</td>\n",
       "    </tr>\n",
       "    <tr>\n",
       "      <th>HOSP_REGION</th>\n",
       "      <td>0</td>\n",
       "      <td>0.000000</td>\n",
       "    </tr>\n",
       "    <tr>\n",
       "      <th>KEY</th>\n",
       "      <td>0</td>\n",
       "      <td>0.000000</td>\n",
       "    </tr>\n",
       "    <tr>\n",
       "      <th>MDC</th>\n",
       "      <td>0</td>\n",
       "      <td>0.000000</td>\n",
       "    </tr>\n",
       "    <tr>\n",
       "      <th>NDX</th>\n",
       "      <td>0</td>\n",
       "      <td>0.000000</td>\n",
       "    </tr>\n",
       "    <tr>\n",
       "      <th>NIS_STRATUM</th>\n",
       "      <td>0</td>\n",
       "      <td>0.000000</td>\n",
       "    </tr>\n",
       "    <tr>\n",
       "      <th>NPR</th>\n",
       "      <td>0</td>\n",
       "      <td>0.000000</td>\n",
       "    </tr>\n",
       "    <tr>\n",
       "      <th>ORPROC</th>\n",
       "      <td>0</td>\n",
       "      <td>0.000000</td>\n",
       "    </tr>\n",
       "    <tr>\n",
       "      <th>DQTR</th>\n",
       "      <td>0</td>\n",
       "      <td>0.000000</td>\n",
       "    </tr>\n",
       "    <tr>\n",
       "      <th>DISCWT</th>\n",
       "      <td>0</td>\n",
       "      <td>0.000000</td>\n",
       "    </tr>\n",
       "    <tr>\n",
       "      <th>CM_PARA</th>\n",
       "      <td>0</td>\n",
       "      <td>0.000000</td>\n",
       "    </tr>\n",
       "    <tr>\n",
       "      <th>TOTAL_DISC</th>\n",
       "      <td>0</td>\n",
       "      <td>0.000000</td>\n",
       "    </tr>\n",
       "    <tr>\n",
       "      <th>CM_WGHTLOSS</th>\n",
       "      <td>0</td>\n",
       "      <td>0.000000</td>\n",
       "    </tr>\n",
       "    <tr>\n",
       "      <th>CM_VALVE</th>\n",
       "      <td>0</td>\n",
       "      <td>0.000000</td>\n",
       "    </tr>\n",
       "    <tr>\n",
       "      <th>CM_ULCER</th>\n",
       "      <td>0</td>\n",
       "      <td>0.000000</td>\n",
       "    </tr>\n",
       "    <tr>\n",
       "      <th>CM_TUMOR</th>\n",
       "      <td>0</td>\n",
       "      <td>0.000000</td>\n",
       "    </tr>\n",
       "    <tr>\n",
       "      <th>CM_RENLFAIL</th>\n",
       "      <td>0</td>\n",
       "      <td>0.000000</td>\n",
       "    </tr>\n",
       "    <tr>\n",
       "      <th>CM_PULMCIRC</th>\n",
       "      <td>0</td>\n",
       "      <td>0.000000</td>\n",
       "    </tr>\n",
       "    <tr>\n",
       "      <th>CM_PSYCH</th>\n",
       "      <td>0</td>\n",
       "      <td>0.000000</td>\n",
       "    </tr>\n",
       "    <tr>\n",
       "      <th>CM_PERIVASC</th>\n",
       "      <td>0</td>\n",
       "      <td>0.000000</td>\n",
       "    </tr>\n",
       "    <tr>\n",
       "      <th>ZIPINC_QRTL</th>\n",
       "      <td>0</td>\n",
       "      <td>0.000000</td>\n",
       "    </tr>\n",
       "  </tbody>\n",
       "</table>\n",
       "<p>111 rows × 2 columns</p>\n",
       "</div>"
      ],
      "text/plain": [
       "                 na      na_p\n",
       "PRDAY15      493959  0.998034\n",
       "PRCCS15      493780  0.997672\n",
       "PRDAY14      493614  0.997337\n",
       "PRCCS14      493363  0.996830\n",
       "PRDAY13      493213  0.996527\n",
       "PRCCS13      492850  0.995793\n",
       "PRDAY12      492670  0.995430\n",
       "PRCCS12      492177  0.994434\n",
       "PRDAY11      491303  0.992668\n",
       "PRCCS11      491072  0.992201\n",
       "PRDAY10      489878  0.989788\n",
       "PRCCS10      489548  0.989122\n",
       "PRDAY9       487770  0.985529\n",
       "DXCCS25      487765  0.985519\n",
       "PRCCS9       487261  0.984501\n",
       "DXCCS24      486088  0.982131\n",
       "DXCCS23      484235  0.978387\n",
       "PRDAY8       484064  0.978041\n",
       "PRCCS8       483075  0.976043\n",
       "DXCCS22      482079  0.974031\n",
       "DXCCS21      479598  0.969018\n",
       "PRDAY7       478445  0.966688\n",
       "PRCCS7       476734  0.963231\n",
       "DXCCS20      476459  0.962676\n",
       "DXCCS19      473045  0.955778\n",
       "PRDAY6       466802  0.943164\n",
       "PRCCS6       466793  0.943146\n",
       "DXCCS18      464570  0.938654\n",
       "DXCCS17      458653  0.926699\n",
       "PRDAY5       453270  0.915823\n",
       "...             ...       ...\n",
       "CM_ANEMDEF        0  0.000000\n",
       "CM_ALCOHOL        0  0.000000\n",
       "CM_AIDS           0  0.000000\n",
       "ATYPE             0  0.000000\n",
       "ASOURCE           0  0.000000\n",
       "CM_CHF            0  0.000000\n",
       "CM_OBESE          0  0.000000\n",
       "CM_NEURO          0  0.000000\n",
       "RACE              0  0.000000\n",
       "HOSPID            0  0.000000\n",
       "HOSP_REGION       0  0.000000\n",
       "KEY               0  0.000000\n",
       "MDC               0  0.000000\n",
       "NDX               0  0.000000\n",
       "NIS_STRATUM       0  0.000000\n",
       "NPR               0  0.000000\n",
       "ORPROC            0  0.000000\n",
       "DQTR              0  0.000000\n",
       "DISCWT            0  0.000000\n",
       "CM_PARA           0  0.000000\n",
       "TOTAL_DISC        0  0.000000\n",
       "CM_WGHTLOSS       0  0.000000\n",
       "CM_VALVE          0  0.000000\n",
       "CM_ULCER          0  0.000000\n",
       "CM_TUMOR          0  0.000000\n",
       "CM_RENLFAIL       0  0.000000\n",
       "CM_PULMCIRC       0  0.000000\n",
       "CM_PSYCH          0  0.000000\n",
       "CM_PERIVASC       0  0.000000\n",
       "ZIPINC_QRTL       0  0.000000\n",
       "\n",
       "[111 rows x 2 columns]"
      ]
     },
     "execution_count": 120,
     "metadata": {},
     "output_type": "execute_result"
    }
   ],
   "source": [
    "na = na.sort_values('na_p', ascending=False)\n",
    "na"
   ]
  },
  {
   "cell_type": "code",
   "execution_count": 173,
   "metadata": {
    "collapsed": false
   },
   "outputs": [
    {
     "data": {
      "text/html": [
       "<div>\n",
       "<style>\n",
       "    .dataframe thead tr:only-child th {\n",
       "        text-align: right;\n",
       "    }\n",
       "\n",
       "    .dataframe thead th {\n",
       "        text-align: left;\n",
       "    }\n",
       "\n",
       "    .dataframe tbody tr th {\n",
       "        vertical-align: top;\n",
       "    }\n",
       "</style>\n",
       "<table border=\"1\" class=\"dataframe\">\n",
       "  <thead>\n",
       "    <tr style=\"text-align: right;\">\n",
       "      <th></th>\n",
       "      <th>na</th>\n",
       "      <th>na_p</th>\n",
       "    </tr>\n",
       "  </thead>\n",
       "  <tbody>\n",
       "    <tr>\n",
       "      <th>TOTAL_DISC</th>\n",
       "      <td>0</td>\n",
       "      <td>0.0</td>\n",
       "    </tr>\n",
       "  </tbody>\n",
       "</table>\n",
       "</div>"
      ],
      "text/plain": [
       "            na  na_p\n",
       "TOTAL_DISC   0   0.0"
      ]
     },
     "execution_count": 173,
     "metadata": {},
     "output_type": "execute_result"
    }
   ],
   "source": [
    "na[na.index=='TOTAL_DISC']"
   ]
  },
  {
   "cell_type": "code",
   "execution_count": 136,
   "metadata": {
    "collapsed": false
   },
   "outputs": [],
   "source": [
    "#na['na']==0"
   ]
  },
  {
   "cell_type": "code",
   "execution_count": 10,
   "metadata": {
    "collapsed": false
   },
   "outputs": [
    {
     "data": {
      "text/plain": [
       "0.39053975419173076"
      ]
     },
     "execution_count": 10,
     "metadata": {},
     "output_type": "execute_result"
    }
   ],
   "source": [
    "na.na_p.mean()"
   ]
  },
  {
   "cell_type": "code",
   "execution_count": 11,
   "metadata": {
    "collapsed": false
   },
   "outputs": [
    {
     "data": {
      "text/plain": [
       "0      2.0\n",
       "1    131.0\n",
       "2    145.0\n",
       "3      4.0\n",
       "4      2.0\n",
       "5    131.0\n",
       "6    237.0\n",
       "7    131.0\n",
       "8    199.0\n",
       "9    137.0\n",
       "Name: DXCCS1, dtype: float64"
      ]
     },
     "execution_count": 11,
     "metadata": {},
     "output_type": "execute_result"
    }
   ],
   "source": [
    "train.DXCCS1.head(10)"
   ]
  },
  {
   "cell_type": "code",
   "execution_count": 13,
   "metadata": {
    "collapsed": false
   },
   "outputs": [
    {
     "data": {
      "text/html": [
       "<div>\n",
       "<style>\n",
       "    .dataframe thead tr:only-child th {\n",
       "        text-align: right;\n",
       "    }\n",
       "\n",
       "    .dataframe thead th {\n",
       "        text-align: left;\n",
       "    }\n",
       "\n",
       "    .dataframe tbody tr th {\n",
       "        vertical-align: top;\n",
       "    }\n",
       "</style>\n",
       "<table border=\"1\" class=\"dataframe\">\n",
       "  <thead>\n",
       "    <tr style=\"text-align: right;\">\n",
       "      <th></th>\n",
       "      <th>NA</th>\n",
       "      <th>NA%</th>\n",
       "    </tr>\n",
       "  </thead>\n",
       "  <tbody>\n",
       "    <tr>\n",
       "      <th>ASOURCE</th>\n",
       "      <td>NaN</td>\n",
       "      <td>NaN</td>\n",
       "    </tr>\n",
       "    <tr>\n",
       "      <th>ATYPE</th>\n",
       "      <td>NaN</td>\n",
       "      <td>NaN</td>\n",
       "    </tr>\n",
       "    <tr>\n",
       "      <th>RACE</th>\n",
       "      <td>NaN</td>\n",
       "      <td>NaN</td>\n",
       "    </tr>\n",
       "    <tr>\n",
       "      <th>TOTCHG</th>\n",
       "      <td>NaN</td>\n",
       "      <td>NaN</td>\n",
       "    </tr>\n",
       "    <tr>\n",
       "      <th>ZIPINC_QRTL</th>\n",
       "      <td>NaN</td>\n",
       "      <td>NaN</td>\n",
       "    </tr>\n",
       "  </tbody>\n",
       "</table>\n",
       "</div>"
      ],
      "text/plain": [
       "             NA  NA%\n",
       "ASOURCE     NaN  NaN\n",
       "ATYPE       NaN  NaN\n",
       "RACE        NaN  NaN\n",
       "TOTCHG      NaN  NaN\n",
       "ZIPINC_QRTL NaN  NaN"
      ]
     },
     "execution_count": 13,
     "metadata": {},
     "output_type": "execute_result"
    }
   ],
   "source": [
    "na_5 = pd.DataFrame(na,index=['ASOURCE','ATYPE','RACE','TOTCHG','ZIPINC_QRTL'],\n",
    "               columns=['NA','NA%'])\n",
    "na_5\n",
    "#no missing value in target features"
   ]
  },
  {
   "cell_type": "code",
   "execution_count": 9,
   "metadata": {
    "collapsed": false
   },
   "outputs": [],
   "source": [
    "DX25 = na[na.index.str.contains('DXCCS')]\n",
    "#DX25 = pd.DataFrame(na, index= ['na'], columns=col1)\n",
    "DX25= DX25.sort_values('na')"
   ]
  },
  {
   "cell_type": "code",
   "execution_count": 10,
   "metadata": {
    "collapsed": false
   },
   "outputs": [
    {
     "data": {
      "text/plain": [
       "<matplotlib.axes._subplots.AxesSubplot at 0x115314ba8>"
      ]
     },
     "execution_count": 10,
     "metadata": {},
     "output_type": "execute_result"
    },
    {
     "data": {
      "image/png": "[encoded data removed]",
      "text/plain": [
       "<matplotlib.figure.Figure at 0x115314128>"
      ]
     },
     "metadata": {},
     "output_type": "display_data"
    }
   ],
   "source": [
    "\n",
    "DX25.na.plot.bar(alpha=0.7, colormap='ocean')"
   ]
  },
  {
   "cell_type": "code",
   "execution_count": 13,
   "metadata": {
    "collapsed": false
   },
   "outputs": [
    {
     "data": {
      "text/plain": [
       "<matplotlib.axes._subplots.AxesSubplot at 0x104b7c860>"
      ]
     },
     "execution_count": 13,
     "metadata": {},
     "output_type": "execute_result"
    },
    {
     "data": {
      "image/png": "[encoded data removed]",
      "text/plain": [
       "<matplotlib.figure.Figure at 0x112eca358>"
      ]
     },
     "metadata": {},
     "output_type": "display_data"
    }
   ],
   "source": [
    "PRCCS = na[na.index.str.contains('PRCCS')]\n",
    "PRCCS= PRCCS.sort_values('na')\n",
    "PRCCS.na.plot.bar(alpha=0.7, colormap='brg')"
   ]
  },
  {
   "cell_type": "code",
   "execution_count": null,
   "metadata": {
    "collapsed": true
   },
   "outputs": [],
   "source": [
    "CM29 = CM29.T\n",
    "CM29.plot.bar(alpha=0.7, colormap='ocean')"
   ]
  },
  {
   "cell_type": "code",
   "execution_count": null,
   "metadata": {
    "collapsed": true
   },
   "outputs": [],
   "source": [
    "cols = [c for c in na.columns if  c.upper()[:5] == 'DXCCS']\n",
    "print(cols)\n",
    "DX25 = pd.DataFrame(na, index= ['na'], columns=cols)"
   ]
  }
 ],
 "metadata": {
  "anaconda-cloud": {},
  "kernelspec": {
   "display_name": "Python [Root]",
   "language": "python",
   "name": "Python [Root]"
  },
  "language_info": {
   "codemirror_mode": {
    "name": "ipython",
    "version": 3
   },
   "file_extension": ".py",
   "mimetype": "text/x-python",
   "name": "python",
   "nbconvert_exporter": "python",
   "pygments_lexer": "ipython3",
   "version": "3.5.2"
  }
 },
 "nbformat": 4,
 "nbformat_minor": 0
}
